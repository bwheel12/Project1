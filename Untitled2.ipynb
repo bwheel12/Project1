{
 "cells": [
  {
   "cell_type": "code",
   "execution_count": 1,
   "metadata": {},
   "outputs": [],
   "source": [
    "from align import algs"
   ]
  },
  {
   "cell_type": "code",
   "execution_count": 2,
   "metadata": {},
   "outputs": [],
   "source": [
    "import numpy\n",
    "score_roc_AUCs = numpy.zeros([4])\n",
    "with open('scoring_matrices/Negpairs.txt') as f:\n",
    "    pairs_txt_neg = f.readlines()\n",
    "    pairs_neg = []\n",
    "for i in range(0,len(pairs_txt_neg)):\n",
    "    pair_temp_neg = [pairs_txt_neg[i][0:pairs_txt_neg[i].find(\" \")],pairs_txt_neg[i][pairs_txt_neg[i].find(\" \")+1:pairs_txt_neg[i].find(\"\\n\")]]\n",
    "    pairs_neg.append(pair_temp_neg)\n",
    "\n",
    "#read in positive pairs\n",
    "with open('scoring_matrices/Pospairs.txt') as f:\n",
    "    pairs_txt_pos = f.readlines()\n",
    "    pairs_pos = []\n",
    "for i in range(0,len(pairs_txt_pos)):\n",
    "    pair_temp_pos = [pairs_txt_pos[i][0:pairs_txt_pos[i].find(\" \")],pairs_txt_pos[i][pairs_txt_pos[i].find(\" \")+1:pairs_txt_pos[i].find(\"\\n\")]]\n",
    "    pairs_pos.append(pair_temp_pos)\n",
    "test_matrices = ['BLOSUM50.mat','BLOSUM62.mat','PAM100.mat','PAM250.mat']\n",
    "\n"
   ]
  },
  {
   "cell_type": "code",
   "execution_count": 4,
   "metadata": {},
   "outputs": [
    {
     "ename": "ValueError",
     "evalue": "Expected 1D or 2D array, got 0D array instead",
     "output_type": "error",
     "traceback": [
      "\u001b[0;31m---------------------------------------------------------------------------\u001b[0m",
      "\u001b[0;31mValueError\u001b[0m                                Traceback (most recent call last)",
      "\u001b[0;32m<ipython-input-4-a90952cb0a49>\u001b[0m in \u001b[0;36m<module>\u001b[0;34m\u001b[0m\n\u001b[1;32m     70\u001b[0m \u001b[0mq7_score_mat_optimization\u001b[0m \u001b[0;34m=\u001b[0m \u001b[0mopen\u001b[0m\u001b[0;34m(\u001b[0m\u001b[0;34m\"q7_score_mat_optimization.txt\"\u001b[0m\u001b[0;34m,\u001b[0m \u001b[0;34m\"w\"\u001b[0m\u001b[0;34m)\u001b[0m\u001b[0;34m\u001b[0m\u001b[0;34m\u001b[0m\u001b[0m\n\u001b[1;32m     71\u001b[0m \u001b[0;32mfor\u001b[0m \u001b[0mrow\u001b[0m \u001b[0;32min\u001b[0m \u001b[0mscore_roc_AUCs\u001b[0m\u001b[0;34m:\u001b[0m\u001b[0;34m\u001b[0m\u001b[0;34m\u001b[0m\u001b[0m\n\u001b[0;32m---> 72\u001b[0;31m     \u001b[0mnumpy\u001b[0m\u001b[0;34m.\u001b[0m\u001b[0msavetxt\u001b[0m\u001b[0;34m(\u001b[0m\u001b[0mq7_score_mat_optimization\u001b[0m\u001b[0;34m,\u001b[0m \u001b[0mrow\u001b[0m\u001b[0;34m)\u001b[0m\u001b[0;34m\u001b[0m\u001b[0;34m\u001b[0m\u001b[0m\n\u001b[0m\u001b[1;32m     73\u001b[0m \u001b[0mq7_score_mat_optimization\u001b[0m\u001b[0;34m.\u001b[0m\u001b[0mclose\u001b[0m\u001b[0;34m(\u001b[0m\u001b[0;34m)\u001b[0m\u001b[0;34m\u001b[0m\u001b[0;34m\u001b[0m\u001b[0m\n",
      "\u001b[0;32m<__array_function__ internals>\u001b[0m in \u001b[0;36msavetxt\u001b[0;34m(*args, **kwargs)\u001b[0m\n",
      "\u001b[0;32m~/.local/lib/python3.8/site-packages/numpy/lib/npyio.py\u001b[0m in \u001b[0;36msavetxt\u001b[0;34m(fname, X, fmt, delimiter, newline, header, footer, comments, encoding)\u001b[0m\n\u001b[1;32m   1369\u001b[0m         \u001b[0;31m# Handle 1-dimensional arrays\u001b[0m\u001b[0;34m\u001b[0m\u001b[0;34m\u001b[0m\u001b[0;34m\u001b[0m\u001b[0m\n\u001b[1;32m   1370\u001b[0m         \u001b[0;32mif\u001b[0m \u001b[0mX\u001b[0m\u001b[0;34m.\u001b[0m\u001b[0mndim\u001b[0m \u001b[0;34m==\u001b[0m \u001b[0;36m0\u001b[0m \u001b[0;32mor\u001b[0m \u001b[0mX\u001b[0m\u001b[0;34m.\u001b[0m\u001b[0mndim\u001b[0m \u001b[0;34m>\u001b[0m \u001b[0;36m2\u001b[0m\u001b[0;34m:\u001b[0m\u001b[0;34m\u001b[0m\u001b[0;34m\u001b[0m\u001b[0m\n\u001b[0;32m-> 1371\u001b[0;31m             raise ValueError(\n\u001b[0m\u001b[1;32m   1372\u001b[0m                 \"Expected 1D or 2D array, got %dD array instead\" % X.ndim)\n\u001b[1;32m   1373\u001b[0m         \u001b[0;32melif\u001b[0m \u001b[0mX\u001b[0m\u001b[0;34m.\u001b[0m\u001b[0mndim\u001b[0m \u001b[0;34m==\u001b[0m \u001b[0;36m1\u001b[0m\u001b[0;34m:\u001b[0m\u001b[0;34m\u001b[0m\u001b[0;34m\u001b[0m\u001b[0m\n",
      "\u001b[0;31mValueError\u001b[0m: Expected 1D or 2D array, got 0D array instead"
     ]
    },
    {
     "data": {
      "image/png": "[encoded data removed]",
      "text/plain": [
       "<Figure size 216x216 with 1 Axes>"
      ]
     },
     "metadata": {
      "needs_background": "light"
     },
     "output_type": "display_data"
    },
    {
     "data": {
      "image/png": "[encoded data removed]",
      "text/plain": [
       "<Figure size 216x216 with 1 Axes>"
      ]
     },
     "metadata": {
      "needs_background": "light"
     },
     "output_type": "display_data"
    },
    {
     "data": {
      "image/png": "[encoded data removed]",
      "text/plain": [
       "<Figure size 216x216 with 1 Axes>"
      ]
     },
     "metadata": {
      "needs_background": "light"
     },
     "output_type": "display_data"
    },
    {
     "data": {
      "image/png": "[encoded data removed]",
      "text/plain": [
       "<Figure size 216x216 with 1 Axes>"
      ]
     },
     "metadata": {
      "needs_background": "light"
     },
     "output_type": "display_data"
    }
   ],
   "source": [
    "\n",
    "import matplotlib.pyplot as plt\n",
    "for zz in range(4):\n",
    "    matrix_location = 'scoring_matrices/' + test_matrices[zz]\n",
    "    z = 6 #the gap opening penalty\n",
    "    zed = 5 #the gap extension penalty\n",
    "    #run local alignment on negative pairs\n",
    "    neg_align_seq = []\n",
    "    neg_align_scr = []\n",
    "    for j in range(len(pairs_neg)):\n",
    "            temp_align = algs.NeedlemanWunsch(pairs_neg[j][0],pairs_neg[j][1],matrix_location)\n",
    "            temp_align.read_scoring_mat()\n",
    "            temp_align.set_gap_penalties(-z,-zed)\n",
    "            temp_align.set_up_align_mats()\n",
    "            temp_align.step_through()\n",
    "            temp_align.follow_back()\n",
    "            neg_align_seq.append([temp_align.final_sequence_1,temp_align.final_sequence_2])\n",
    "            neg_align_scr.append(temp_align.alignment_score)\n",
    "\n",
    "\n",
    "\n",
    "    #align positive pairs\n",
    "    pos_align_seq = []\n",
    "    pos_align_scr = []\n",
    "    for j in range(len(pairs_pos)):\n",
    "            temp_align = algs.NeedlemanWunsch(pairs_pos[j][0],pairs_pos[j][1],matrix_location)\n",
    "            temp_align.read_scoring_mat()\n",
    "            temp_align.set_gap_penalties(-z,-zed)\n",
    "            temp_align.set_up_align_mats()\n",
    "            temp_align.step_through()\n",
    "            temp_align.follow_back()\n",
    "            pos_align_seq.append([temp_align.final_sequence_1,temp_align.final_sequence_2])\n",
    "            pos_align_scr.append(temp_align.alignment_score)\n",
    "    \n",
    "    import math\n",
    "    all_scr = neg_align_scr + pos_align_scr\n",
    "    roc_TPRs = []\n",
    "    roc_FPRs = []\n",
    "\n",
    "    for i in range(math.floor(min(all_scr))-1,math.floor(max(all_scr))+2):\n",
    "        all_score_mean = i\n",
    "        confusion = numpy.zeros([2,2])\n",
    "        true_neg = len([i for i in neg_align_scr if i < all_score_mean])\n",
    "        confusion[0,0] = true_neg\n",
    "        false_pos = len([i for i in neg_align_scr if i >= all_score_mean])\n",
    "        confusion[0,1] = false_pos\n",
    "        false_neg = len([i for i in pos_align_scr if i < all_score_mean])\n",
    "        confusion[1,0] = false_neg\n",
    "        true_pos = len([i for i in pos_align_scr if i >= all_score_mean])\n",
    "        confusion[1,1] = true_pos\n",
    "\n",
    "        TPR = true_pos/(false_neg+true_pos)\n",
    "        FPR = false_pos/(false_pos+true_neg)\n",
    "        roc_TPRs.append(TPR)\n",
    "        roc_FPRs.append(FPR)\n",
    "\n",
    "    #print(z,zed,end='\\r')\n",
    "\n",
    "    #determine ROC_AUC\n",
    "    roc_AUC = 0\n",
    "\n",
    "    for i in range(len(roc_TPRs)-1):\n",
    "        roc_AUC = roc_AUC + (roc_TPRs[i]+roc_TPRs[i+1])/2*(roc_FPRs[i]-roc_FPRs[i+1])\n",
    "\n",
    "    score_roc_AUCs[zz] = roc_AUC\n",
    "    \n",
    "    plt.figure(figsize=(3, 3))    \n",
    "    plt.plot(roc_FPRs, roc_TPRs, 'o', color = 'black')\n",
    "    plt.savefig(test_matrices[zz]+'_ROC.png')\n"
   ]
  },
  {
   "cell_type": "code",
   "execution_count": 11,
   "metadata": {},
   "outputs": [],
   "source": [
    "    \n",
    "q7_score_mat_optimization = open(\"q7_score_mat_optimization.txt\", \"w\")\n",
    "numpy.savetxt(q7_score_mat_optimization, score_roc_AUCs)\n",
    "q7_score_mat_optimization.close() "
   ]
  },
  {
   "cell_type": "code",
   "execution_count": 12,
   "metadata": {},
   "outputs": [],
   "source": [
    "test_align_1 = algs.NeedlemanWunsch(\"sequences/prot-0004.fa\",\"sequences/prot-0004.fa\",\"scoring_matrices/BLOSUM50.mat\")\n",
    "test_align_1.read_scoring_mat()\n",
    "test_align_1.set_gap_penalties(-11,-3)\n",
    "test_align_1.set_up_align_mats()\n",
    "test_align_1.step_through()\n",
    "test_align_1.follow_back()"
   ]
  },
  {
   "cell_type": "code",
   "execution_count": 14,
   "metadata": {},
   "outputs": [
    {
     "data": {
      "text/plain": [
       "937.0"
      ]
     },
     "execution_count": 14,
     "metadata": {},
     "output_type": "execute_result"
    }
   ],
   "source": [
    "test_align_1.alignment_score"
   ]
  },
  {
   "cell_type": "code",
   "execution_count": null,
   "metadata": {},
   "outputs": [],
   "source": []
  }
 ],
 "metadata": {
  "kernelspec": {
   "display_name": "Python 3",
   "language": "python",
   "name": "python3"
  },
  "language_info": {
   "codemirror_mode": {
    "name": "ipython",
    "version": 3
   },
   "file_extension": ".py",
   "mimetype": "text/x-python",
   "name": "python",
   "nbconvert_exporter": "python",
   "pygments_lexer": "ipython3",
   "version": "3.8.5"
  }
 },
 "nbformat": 4,
 "nbformat_minor": 4
}
