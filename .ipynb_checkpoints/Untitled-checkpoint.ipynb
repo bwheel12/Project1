{
 "cells": [
  {
   "cell_type": "code",
   "execution_count": 6,
   "metadata": {},
   "outputs": [
    {
     "data": {
      "image/png": "[encoded data removed]",
      "text/plain": [
       "<Figure size 216x216 with 1 Axes>"
      ]
     },
     "metadata": {
      "needs_background": "light"
     },
     "output_type": "display_data"
    },
    {
     "data": {
      "image/png": "[encoded data removed]",
      "text/plain": [
       "<Figure size 216x216 with 1 Axes>"
      ]
     },
     "metadata": {
      "needs_background": "light"
     },
     "output_type": "display_data"
    },
    {
     "data": {
      "image/png": "[encoded data removed]",
      "text/plain": [
       "<Figure size 216x216 with 1 Axes>"
      ]
     },
     "metadata": {
      "needs_background": "light"
     },
     "output_type": "display_data"
    },
    {
     "data": {
      "image/png": "[encoded data removed]",
      "text/plain": [
       "<Figure size 216x216 with 1 Axes>"
      ]
     },
     "metadata": {
      "needs_background": "light"
     },
     "output_type": "display_data"
    }
   ],
   "source": [
    "\n",
    "import numpy\n",
    "from align import algs\n",
    "import matplotlib.pyplot as plt\n",
    "##Evaluate the different alignment scoring matrices\n",
    "score_roc_AUCs = numpy.zeros([4])\n",
    "with open('scoring_matrices/Negpairs.txt') as f:\n",
    "    pairs_txt_neg = f.readlines()\n",
    "    pairs_neg = []\n",
    "for i in range(0,len(pairs_txt_neg)):\n",
    "    pair_temp_neg = [pairs_txt_neg[i][0:pairs_txt_neg[i].find(\" \")],pairs_txt_neg[i][pairs_txt_neg[i].find(\" \")+1:pairs_txt_neg[i].find(\"\\n\")]]\n",
    "    pairs_neg.append(pair_temp_neg)\n",
    "\n",
    "#read in positive pairs\n",
    "with open('scoring_matrices/Pospairs.txt') as f:\n",
    "    pairs_txt_pos = f.readlines()\n",
    "    pairs_pos = []\n",
    "for i in range(0,len(pairs_txt_pos)):\n",
    "    pair_temp_pos = [pairs_txt_pos[i][0:pairs_txt_pos[i].find(\" \")],pairs_txt_pos[i][pairs_txt_pos[i].find(\" \")+1:pairs_txt_pos[i].find(\"\\n\")]]\n",
    "    pairs_pos.append(pair_temp_pos)\n",
    "    \n",
    "test_matrices = ['BLOSUM50.mat','BLOSUM62.mat','PAM100.mat','PAM250.mat']\n",
    "\n",
    "\n",
    "for zz in range(4):\n",
    "    matrix_location = 'scoring_matrices/' + test_matrices[zz]\n",
    "    z = 4 #the gap opening penalty\n",
    "    zed = 4 #the gap extension penalty\n",
    "    #run local alignment on negative pairs\n",
    "    neg_align_seq = []\n",
    "    neg_align_scr = []\n",
    "    for j in range(len(pairs_neg)):\n",
    "            temp_align = algs.NeedlemanWunsch(pairs_neg[j][0],pairs_neg[j][1],matrix_location)\n",
    "            temp_align.read_scoring_mat()\n",
    "            temp_align.set_gap_penalties(-z,-zed)\n",
    "            temp_align.set_up_align_mats()\n",
    "            temp_align.step_through()\n",
    "            temp_align.follow_back()\n",
    "            neg_align_seq.append([temp_align.final_sequence_1,temp_align.final_sequence_2])\n",
    "            neg_align_scr.append(temp_align.alignment_score)\n",
    "\n",
    "\n",
    "\n",
    "    #align positive pairs\n",
    "    pos_align_seq = []\n",
    "    pos_align_scr = []\n",
    "    for j in range(len(pairs_pos)):\n",
    "            temp_align = algs.NeedlemanWunsch(pairs_pos[j][0],pairs_pos[j][1],matrix_location)\n",
    "            temp_align.read_scoring_mat()\n",
    "            temp_align.set_gap_penalties(-z,-zed)\n",
    "            temp_align.set_up_align_mats()\n",
    "            temp_align.step_through()\n",
    "            temp_align.follow_back()\n",
    "            pos_align_seq.append([temp_align.final_sequence_1,temp_align.final_sequence_2])\n",
    "            pos_align_scr.append(temp_align.alignment_score)\n",
    "    \n",
    "    import math\n",
    "    all_scr = neg_align_scr + pos_align_scr\n",
    "    roc_TPRs = []\n",
    "    roc_FPRs = []\n",
    "\n",
    "    for i in range(math.floor(min(all_scr))-1,math.floor(max(all_scr))+2):\n",
    "        all_score_mean = i\n",
    "        confusion = numpy.zeros([2,2])\n",
    "        true_neg = len([i for i in neg_align_scr if i < all_score_mean])\n",
    "        confusion[0,0] = true_neg\n",
    "        false_pos = len([i for i in neg_align_scr if i >= all_score_mean])\n",
    "        confusion[0,1] = false_pos\n",
    "        false_neg = len([i for i in pos_align_scr if i < all_score_mean])\n",
    "        confusion[1,0] = false_neg\n",
    "        true_pos = len([i for i in pos_align_scr if i >= all_score_mean])\n",
    "        confusion[1,1] = true_pos\n",
    "\n",
    "        TPR = true_pos/(false_neg+true_pos)\n",
    "        FPR = false_pos/(false_pos+true_neg)\n",
    "        roc_TPRs.append(TPR)\n",
    "        roc_FPRs.append(FPR)\n",
    "\n",
    "    #print(z,zed,end='\\r')\n",
    "\n",
    "    #determine ROC_AUC\n",
    "    roc_AUC = 0\n",
    "\n",
    "    for i in range(len(roc_TPRs)-1):\n",
    "        roc_AUC = roc_AUC + (roc_TPRs[i]+roc_TPRs[i+1])/2*(roc_FPRs[i]-roc_FPRs[i+1])\n",
    "\n",
    "    score_roc_AUCs[zz] = roc_AUC\n",
    "    \n",
    "    plt.figure(figsize=(3, 3))    \n",
    "    plt.plot(roc_FPRs, roc_TPRs, 'o', color = 'black')\n",
    "    plt.savefig(test_matrices[zz]+'_ROC.png')\n",
    "    \n",
    "q7_score_mat_optimization = open(\"q7_score_mat_optimization.txt\", \"w\")\n",
    "numpy.savetxt(q7_score_mat_optimization, score_roc_AUCs)\n",
    "q7_score_mat_optimization.close()\n"
   ]
  },
  {
   "cell_type": "code",
   "execution_count": 14,
   "metadata": {},
   "outputs": [
    {
     "data": {
      "text/plain": [
       "['----------------------------------------------------------------------------------------------------------------------------------------------------------------------------------------------------------------------------------------------------------TPL-VHVASVE-K--G-RSYEDFQKVYNAIALKLREDDEYDNYIGYGPVLVR--L-AWHTSGTWDKHDNTGGSYGGTYRFKKEFNDPSNAGLQNGFKFLEPIHK-EFPWISSGDL-FSL-GGVTAV-QE-MQGP-KIPWRCG-RVD-TPE---DTTPDNG-RLP--DADKDADY-VRTF--FQRL-NMNDREVVALMGA--HALGK-TH-LKNSGYEGP-----W-GAANNVFT-NE-F--YLN-LLNED-WKLEKNDANNEQWDSKSGYMMLPTDYSLIQDPKYLS-IVKEYANDQDKFFKDFSKAFEKLLENGITFPKD-AP-SPF-IFKTLEE-QGL',\n",
       " 'CPEQDKYRTITGMCNNRRSPTLGASNRAFVRWLPAEYEDGFSLPYGWTPGVKRNGFPVALARAVSNEIVRFPTDQLTPDQERSLMFMQWGQLLDHDLDFTPEPAVNCETSCVQQPPCFPLKIPPNDPRIKNQADCIPFFRSCPACPGSNITIRNQINALTSFVDASMVYGSEEPLARNLRNMSNQLGLLAVNQRFQDNGRALLPFDNLHDDPCLLTNRSARIPCFLAGDTRSSEMPELTSMHTLLLREHN-RLATELKSLNPRWDGERLYQEARKIVGAM-VQIITYRDYLPLV-LGPTAMRKYLPTYRSYND-SVDPRIANVFTNAFRYGHTLIQPFMFRLDNRYQPMEPNPRVPLSRVFFASWRVVLEGGIDPILRGLMATPAKLNRQNQIAVDEIRERLFEQVMRIGLDLPALNMQRSRDHGLPGYNAWRRFCGLPQPETVGQLGTVLRNL-KLARKLME-QYGTPNNIDIWMGGVSEPLKRKGRVGPLLACIIGTQFRKL-R-DGDRFWWENEGVFSMQQRQ-ALAQIS--LPRII--C-DNTG--ITTVSKN-NIFMSN--SYPRDFVNCSTLPALN-LASWREA']"
      ]
     },
     "execution_count": 14,
     "metadata": {},
     "output_type": "execute_result"
    }
   ],
   "source": [
    "pos_align_seq[6]"
   ]
  },
  {
   "cell_type": "code",
   "execution_count": 10,
   "metadata": {},
   "outputs": [
    {
     "data": {
      "text/plain": [
       "'L-S-C--SK----------CRK-EMGQVEISSC-TVDRDTVC-GCRKNQYRHYWSENLFQC'"
      ]
     },
     "execution_count": 10,
     "metadata": {},
     "output_type": "execute_result"
    }
   ],
   "source": [
    "temp_align.final_sequence_2"
   ]
  },
  {
   "cell_type": "code",
   "execution_count": 18,
   "metadata": {},
   "outputs": [
    {
     "ename": "AttributeError",
     "evalue": "module 'matplotlib.pyplot' has no attribute 'version'",
     "output_type": "error",
     "traceback": [
      "\u001b[0;31m---------------------------------------------------------------------------\u001b[0m",
      "\u001b[0;31mAttributeError\u001b[0m                            Traceback (most recent call last)",
      "\u001b[0;32m<ipython-input-18-38e541cc8706>\u001b[0m in \u001b[0;36m<module>\u001b[0;34m\u001b[0m\n\u001b[0;32m----> 1\u001b[0;31m \u001b[0mplt\u001b[0m\u001b[0;34m.\u001b[0m\u001b[0mversion\u001b[0m\u001b[0;34m(\u001b[0m\u001b[0;34m)\u001b[0m\u001b[0;34m\u001b[0m\u001b[0;34m\u001b[0m\u001b[0m\n\u001b[0m",
      "\u001b[0;31mAttributeError\u001b[0m: module 'matplotlib.pyplot' has no attribute 'version'"
     ]
    }
   ],
   "source": [
    "plt.version()"
   ]
  },
  {
   "cell_type": "code",
   "execution_count": null,
   "metadata": {},
   "outputs": [],
   "source": []
  }
 ],
 "metadata": {
  "kernelspec": {
   "display_name": "Python 3",
   "language": "python",
   "name": "python3"
  },
  "language_info": {
   "codemirror_mode": {
    "name": "ipython",
    "version": 3
   },
   "file_extension": ".py",
   "mimetype": "text/x-python",
   "name": "python",
   "nbconvert_exporter": "python",
   "pygments_lexer": "ipython3",
   "version": "3.8.5"
  }
 },
 "nbformat": 4,
 "nbformat_minor": 4
}
