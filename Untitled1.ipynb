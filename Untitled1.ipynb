{
 "cells": [
  {
   "cell_type": "code",
   "execution_count": 16,
   "metadata": {},
   "outputs": [],
   "source": [
    "from align import algs"
   ]
  },
  {
   "cell_type": "code",
   "execution_count": 20,
   "metadata": {},
   "outputs": [],
   "source": [
    "%run align/algs.py"
   ]
  },
  {
   "cell_type": "code",
   "execution_count": 17,
   "metadata": {},
   "outputs": [],
   "source": [
    "import numpy\n",
    "score_roc_AUCs = numpy.zeros([4])\n",
    "with open('scoring_matrices/Negpairs.txt') as f:\n",
    "    pairs_txt_neg = f.readlines()\n",
    "    pairs_neg = []\n",
    "for i in range(0,len(pairs_txt_neg)):\n",
    "    pair_temp_neg = [pairs_txt_neg[i][0:pairs_txt_neg[i].find(\" \")],pairs_txt_neg[i][pairs_txt_neg[i].find(\" \")+1:pairs_txt_neg[i].find(\"\\n\")]]\n",
    "    pairs_neg.append(pair_temp_neg)\n",
    "\n",
    "#read in positive pairs\n",
    "with open('scoring_matrices/Pospairs.txt') as f:\n",
    "    pairs_txt_pos = f.readlines()\n",
    "    pairs_pos = []\n",
    "for i in range(0,len(pairs_txt_pos)):\n",
    "    pair_temp_pos = [pairs_txt_pos[i][0:pairs_txt_pos[i].find(\" \")],pairs_txt_pos[i][pairs_txt_pos[i].find(\" \")+1:pairs_txt_pos[i].find(\"\\n\")]]\n",
    "    pairs_pos.append(pair_temp_pos)\n",
    "test_matrices = ['BLOSUM50.mat','BLOSUM62.mat','PAM100.mat','PAM250.mat']\n",
    "\n"
   ]
  },
  {
   "cell_type": "code",
   "execution_count": 14,
   "metadata": {},
   "outputs": [],
   "source": [
    "import os"
   ]
  },
  {
   "cell_type": "code",
   "execution_count": 23,
   "metadata": {},
   "outputs": [
    {
     "data": {
      "text/plain": [
       "'/home/benjamin/Downloads/Ansel_Lab_Things/algorithms/Project1-main'"
      ]
     },
     "execution_count": 23,
     "metadata": {},
     "output_type": "execute_result"
    }
   ],
   "source": [
    "os.getcwd()"
   ]
  },
  {
   "cell_type": "code",
   "execution_count": 21,
   "metadata": {},
   "outputs": [
    {
     "ename": "FileNotFoundError",
     "evalue": "[Errno 2] No such file or directory: './Project1-main/sequences/prot-0018.fa'",
     "output_type": "error",
     "traceback": [
      "\u001b[0;31m---------------------------------------------------------------------------\u001b[0m",
      "\u001b[0;31mFileNotFoundError\u001b[0m                         Traceback (most recent call last)",
      "\u001b[0;32m<ipython-input-21-30767a024299>\u001b[0m in \u001b[0;36m<module>\u001b[0;34m\u001b[0m\n\u001b[1;32m      7\u001b[0m     \u001b[0mneg_align_scr\u001b[0m \u001b[0;34m=\u001b[0m \u001b[0;34m[\u001b[0m\u001b[0;34m]\u001b[0m\u001b[0;34m\u001b[0m\u001b[0;34m\u001b[0m\u001b[0m\n\u001b[1;32m      8\u001b[0m     \u001b[0;32mfor\u001b[0m \u001b[0mj\u001b[0m \u001b[0;32min\u001b[0m \u001b[0mrange\u001b[0m\u001b[0;34m(\u001b[0m\u001b[0mlen\u001b[0m\u001b[0;34m(\u001b[0m\u001b[0mpairs_neg\u001b[0m\u001b[0;34m)\u001b[0m\u001b[0;34m)\u001b[0m\u001b[0;34m:\u001b[0m\u001b[0;34m\u001b[0m\u001b[0;34m\u001b[0m\u001b[0m\n\u001b[0;32m----> 9\u001b[0;31m             \u001b[0mtemp_align\u001b[0m \u001b[0;34m=\u001b[0m \u001b[0malgs\u001b[0m\u001b[0;34m.\u001b[0m\u001b[0mNeedlemanWunsch\u001b[0m\u001b[0;34m(\u001b[0m\u001b[0mpairs_neg\u001b[0m\u001b[0;34m[\u001b[0m\u001b[0mj\u001b[0m\u001b[0;34m]\u001b[0m\u001b[0;34m[\u001b[0m\u001b[0;36m0\u001b[0m\u001b[0;34m]\u001b[0m\u001b[0;34m,\u001b[0m\u001b[0mpairs_neg\u001b[0m\u001b[0;34m[\u001b[0m\u001b[0mj\u001b[0m\u001b[0;34m]\u001b[0m\u001b[0;34m[\u001b[0m\u001b[0;36m1\u001b[0m\u001b[0;34m]\u001b[0m\u001b[0;34m,\u001b[0m\u001b[0mmatrix_location\u001b[0m\u001b[0;34m)\u001b[0m\u001b[0;34m\u001b[0m\u001b[0;34m\u001b[0m\u001b[0m\n\u001b[0m\u001b[1;32m     10\u001b[0m             \u001b[0mtemp_align\u001b[0m\u001b[0;34m.\u001b[0m\u001b[0mread_scoring_mat\u001b[0m\u001b[0;34m(\u001b[0m\u001b[0;34m)\u001b[0m\u001b[0;34m\u001b[0m\u001b[0;34m\u001b[0m\u001b[0m\n\u001b[1;32m     11\u001b[0m             \u001b[0mtemp_align\u001b[0m\u001b[0;34m.\u001b[0m\u001b[0mset_gap_penalties\u001b[0m\u001b[0;34m(\u001b[0m\u001b[0;34m-\u001b[0m\u001b[0mz\u001b[0m\u001b[0;34m,\u001b[0m\u001b[0;34m-\u001b[0m\u001b[0mzed\u001b[0m\u001b[0;34m)\u001b[0m\u001b[0;34m\u001b[0m\u001b[0;34m\u001b[0m\u001b[0m\n",
      "\u001b[0;32m~/Downloads/Ansel_Lab_Things/algorithms/Project1-main/align/algs.py\u001b[0m in \u001b[0;36m__init__\u001b[0;34m(self, sequence_1, sequence_2, scoring_matrix_name)\u001b[0m\n\u001b[1;32m      3\u001b[0m \u001b[0;34m\u001b[0m\u001b[0m\n\u001b[1;32m      4\u001b[0m     \u001b[0;31m##defines initialization conditions requires paths to two fasta sequences and the path to a scoring matrix\u001b[0m\u001b[0;34m\u001b[0m\u001b[0;34m\u001b[0m\u001b[0;34m\u001b[0m\u001b[0m\n\u001b[0;32m----> 5\u001b[0;31m     \u001b[0;32mdef\u001b[0m \u001b[0m__init__\u001b[0m\u001b[0;34m(\u001b[0m\u001b[0mself\u001b[0m\u001b[0;34m,\u001b[0m\u001b[0msequence_1\u001b[0m\u001b[0;34m,\u001b[0m \u001b[0msequence_2\u001b[0m\u001b[0;34m,\u001b[0m \u001b[0mscoring_matrix_name\u001b[0m\u001b[0;34m)\u001b[0m\u001b[0;34m:\u001b[0m\u001b[0;34m\u001b[0m\u001b[0;34m\u001b[0m\u001b[0m\n\u001b[0m\u001b[1;32m      6\u001b[0m         \u001b[0;32mwith\u001b[0m \u001b[0mopen\u001b[0m\u001b[0;34m(\u001b[0m\u001b[0msequence_1\u001b[0m\u001b[0;34m)\u001b[0m \u001b[0;32mas\u001b[0m \u001b[0mf\u001b[0m\u001b[0;34m:\u001b[0m\u001b[0;34m\u001b[0m\u001b[0;34m\u001b[0m\u001b[0m\n\u001b[1;32m      7\u001b[0m             \u001b[0mlines\u001b[0m \u001b[0;34m=\u001b[0m \u001b[0mf\u001b[0m\u001b[0;34m.\u001b[0m\u001b[0mreadlines\u001b[0m\u001b[0;34m(\u001b[0m\u001b[0;34m)\u001b[0m\u001b[0;34m\u001b[0m\u001b[0;34m\u001b[0m\u001b[0m\n",
      "\u001b[0;31mFileNotFoundError\u001b[0m: [Errno 2] No such file or directory: './Project1-main/sequences/prot-0018.fa'"
     ]
    }
   ],
   "source": [
    "for zz in range(4):\n",
    "    matrix_location = 'scoring_matrices/' + test_matrices[zz]\n",
    "    z = 6 #the gap opening penalty\n",
    "    zed = 5 #the gap extension penalty\n",
    "    #run local alignment on negative pairs\n",
    "    neg_align_seq = []\n",
    "    neg_align_scr = []\n",
    "    for j in range(len(pairs_neg)):\n",
    "            temp_align = algs.NeedlemanWunsch(pairs_neg[j][0],pairs_neg[j][1],matrix_location)\n",
    "            temp_align.read_scoring_mat()\n",
    "            temp_align.set_gap_penalties(-z,-zed)\n",
    "            temp_align.set_up_align_mats()\n",
    "            temp_align.step_through()\n",
    "            temp_align.follow_back()\n",
    "            neg_align_seq.append([temp_align.final_sequence_1,temp_align.final_sequence_2])\n",
    "            neg_align_scr.append(temp_align.alignment_score)\n",
    "\n",
    "\n",
    "\n",
    "    #align positive pairs\n",
    "    pos_align_seq = []\n",
    "    pos_align_scr = []\n",
    "    for j in range(len(pairs_pos)):\n",
    "            temp_align = algs.NeedlemanWunsch(pairs_pos[j][0],pairs_pos[j][1],matrix_location)\n",
    "            temp_align.read_scoring_mat()\n",
    "            temp_align.set_gap_penalties(-z,-zed)\n",
    "            temp_align.set_up_align_mats()\n",
    "            temp_align.step_through()\n",
    "            temp_align.follow_back()\n",
    "            pos_align_seq.append([temp_align.final_sequence_1,temp_align.final_sequence_2])\n",
    "            pos_align_scr.append(temp_align.alignment_score)\n",
    "    \n",
    "    import math\n",
    "    all_scr = neg_align_scr + pos_align_scr\n",
    "    roc_TPRs = []\n",
    "    roc_FPRs = []\n",
    "\n",
    "    for i in range(math.floor(min(all_scr))-1,math.floor(max(all_scr))+2):\n",
    "        all_score_mean = i\n",
    "        confusion = numpy.zeros([2,2])\n",
    "        true_neg = len([i for i in neg_align_scr if i < all_score_mean])\n",
    "        confusion[0,0] = true_neg\n",
    "        false_pos = len([i for i in neg_align_scr if i >= all_score_mean])\n",
    "        confusion[0,1] = false_pos\n",
    "        false_neg = len([i for i in pos_align_scr if i < all_score_mean])\n",
    "        confusion[1,0] = false_neg\n",
    "        true_pos = len([i for i in pos_align_scr if i >= all_score_mean])\n",
    "        confusion[1,1] = true_pos\n",
    "\n",
    "        TPR = true_pos/(false_neg+true_pos)\n",
    "        FPR = false_pos/(false_pos+true_neg)\n",
    "        roc_TPRs.append(TPR)\n",
    "        roc_FPRs.append(FPR)\n",
    "\n",
    "    #print(z,zed,end='\\r')\n",
    "\n",
    "    #determine ROC_AUC\n",
    "    roc_AUC = 0\n",
    "\n",
    "    for i in range(len(roc_TPRs)-1):\n",
    "        roc_AUC = roc_AUC + (roc_TPRs[i]+roc_TPRs[i+1])/2*(roc_FPRs[i]-roc_FPRs[i+1])\n",
    "\n",
    "    score_roc_AUCs[zz] = roc_AUC\n",
    "    \n",
    "    plt.figure(figsize=(3, 3))    \n",
    "    plt.plot(roc_FPRs, roc_TPRs, 'o', color = 'black')\n",
    "    plt.savefig(test_matrices[zz]+'_ROC.png')\n",
    "    \n",
    "q7_score_mat_optimization = open(\"q7_score_mat_optimization.txt\", \"w\")\n",
    "for row in score_roc_AUCs:\n",
    "    numpy.savetxt(q7_score_mat_optimization, row)\n",
    "q7_score_mat_optimization.close() "
   ]
  },
  {
   "cell_type": "code",
   "execution_count": null,
   "metadata": {},
   "outputs": [],
   "source": []
  }
 ],
 "metadata": {
  "kernelspec": {
   "display_name": "Python 3",
   "language": "python",
   "name": "python3"
  },
  "language_info": {
   "codemirror_mode": {
    "name": "ipython",
    "version": 3
   },
   "file_extension": ".py",
   "mimetype": "text/x-python",
   "name": "python",
   "nbconvert_exporter": "python",
   "pygments_lexer": "ipython3",
   "version": "3.8.5"
  }
 },
 "nbformat": 4,
 "nbformat_minor": 4
}
