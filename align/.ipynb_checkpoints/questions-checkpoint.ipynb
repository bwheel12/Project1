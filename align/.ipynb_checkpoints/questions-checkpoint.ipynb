{
 "cells": [
  {
   "cell_type": "markdown",
   "metadata": {},
   "source": [
    "Benjamin Wheeler Project 1\n",
    "1.)For both Smith-Waterman and Needleman-Wunsch algorithms:\n",
    "a) What are the parameters and variables required for algorithm\n",
    "initialization, execution, and termination?\n",
    "b) What quantities are returned?\n",
    "c) What is the runtime complexity?\n",
    "\n",
    "1.)a) Both algorithms require the following variables: two sequences to be aligned. In addition the following parameters must be provided: a matrix defining the score for a match between two given amino acids, the gap opening penalty, and the gap extension penalty. \n",
    "\n",
    "b) The algorithms will return in each case the ideal alignment(s) and the score associated with that alignment\n",
    "\n",
    "c)The complexity is proportional to the product of the length of each string to be aligned. O(N^2)\n",
    "\n",
    "2.) What functionalities in initialization, execution and termination are shared\n",
    "between these algorithms? Which are not shared?\n",
    "\n",
    "The algorithms share the initialization of defining the sequences to be aligned and the score matrices for a given character pair. Howevever, when initializing the result matrix the first column and row for the global(smith-waterman) algorithm negative values for the gaps are implemented. For the local(Needleman-wunsch) algorithm zeros values are assigned for the gaps. \n",
    "\n",
    "In execution the algorithms are exceedingly similar in that the matrix is stepped through and a score is assigned to each box based upon the conditions of the algorithm. The essential difference here is that the local alignment method does not allow negative values but instead places zeros where the other options would be negative. In traceback they also differ\n"
   ]
  }
 ],
 "metadata": {
  "kernelspec": {
   "display_name": "Python 3",
   "language": "python",
   "name": "python3"
  },
  "language_info": {
   "codemirror_mode": {
    "name": "ipython",
    "version": 3
   },
   "file_extension": ".py",
   "mimetype": "text/x-python",
   "name": "python",
   "nbconvert_exporter": "python",
   "pygments_lexer": "ipython3",
   "version": "3.8.5"
  }
 },
 "nbformat": 4,
 "nbformat_minor": 4
}
