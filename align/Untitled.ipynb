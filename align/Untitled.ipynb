{
 "cells": [
  {
   "cell_type": "markdown",
   "metadata": {},
   "source": [
    "Benjamin Wheeler Project 1\n",
    "1.)For both Smith-Waterman and Needleman-Wunsch algorithms:\n",
    "a) What are the parameters and variables required for algorithm\n",
    "initialization, execution, and termination?\n",
    "b) What quantities are returned?\n",
    "c) What is the runtime complexity?\n",
    "\n",
    "1.)a) Both algorithms require two string sequencs\n"
   ]
  }
 ],
 "metadata": {
  "kernelspec": {
   "display_name": "Python 3",
   "language": "python",
   "name": "python3"
  },
  "language_info": {
   "codemirror_mode": {
    "name": "ipython",
    "version": 3
   },
   "file_extension": ".py",
   "mimetype": "text/x-python",
   "name": "python",
   "nbconvert_exporter": "python",
   "pygments_lexer": "ipython3",
   "version": "3.8.5"
  }
 },
 "nbformat": 4,
 "nbformat_minor": 4
}
