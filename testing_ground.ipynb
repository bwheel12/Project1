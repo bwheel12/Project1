{
 "cells": [
  {
   "cell_type": "code",
   "execution_count": 3,
   "metadata": {},
   "outputs": [
    {
     "name": "stdout",
     "output_type": "stream",
     "text": [
      "Defaulting to user installation because normal site-packages is not writeable\n",
      "Collecting numpy\n",
      "  Downloading numpy-1.19.5-cp38-cp38-manylinux2010_x86_64.whl (14.9 MB)\n",
      "\u001b[K     |████████████████████████████████| 14.9 MB 15.0 MB/s eta 0:00:01\n",
      "\u001b[?25hInstalling collected packages: numpy\n",
      "Successfully installed numpy-1.19.5\n",
      "Note: you may need to restart the kernel to use updated packages.\n"
     ]
    }
   ],
   "source": [
    "pip install numpy"
   ]
  },
  {
   "cell_type": "code",
   "execution_count": 4,
   "metadata": {},
   "outputs": [
    {
     "name": "stdout",
     "output_type": "stream",
     "text": [
      "Defaulting to user installation because normal site-packages is not writeable\n",
      "Collecting scipy\n",
      "  Downloading scipy-1.6.0-cp38-cp38-manylinux1_x86_64.whl (27.2 MB)\n",
      "\u001b[K     |████████████████████████████████| 27.2 MB 15.4 MB/s eta 0:00:01\n",
      "\u001b[?25hRequirement already satisfied: numpy>=1.16.5 in /home/benjamin/.local/lib/python3.8/site-packages (from scipy) (1.19.5)\n",
      "Installing collected packages: scipy\n",
      "Successfully installed scipy-1.6.0\n",
      "Note: you may need to restart the kernel to use updated packages.\n"
     ]
    }
   ],
   "source": [
    "pip install scipy"
   ]
  },
  {
   "cell_type": "code",
   "execution_count": 5,
   "metadata": {},
   "outputs": [],
   "source": [
    "import scipy.io"
   ]
  },
  {
   "cell_type": "code",
   "execution_count": 11,
   "metadata": {},
   "outputs": [],
   "source": [
    "test_mat = open('./Project1-main/scoring_matrices/PAM250.mat',\"r+\")"
   ]
  },
  {
   "cell_type": "code",
   "execution_count": 13,
   "metadata": {},
   "outputs": [],
   "source": [
    "test_mat.close()"
   ]
  },
  {
   "cell_type": "code",
   "execution_count": 202,
   "metadata": {},
   "outputs": [],
   "source": [
    "class myclass():\n",
    "    def __init__(self,name_1,shit):\n",
    "        self.name = name_1\n",
    "    \n",
    "    def last_name(self):\n",
    "        return self.name + \" \" + \"poop\"\n",
    "    data = []\n",
    "    height = 6\n",
    "    \n",
    "    "
   ]
  },
  {
   "cell_type": "code",
   "execution_count": null,
   "metadata": {},
   "outputs": [],
   "source": []
  },
  {
   "cell_type": "code",
   "execution_count": 203,
   "metadata": {},
   "outputs": [],
   "source": [
    "class my_sub_class(myclass):\n",
    "    def __init__(self):\n",
    "        self.extra_shit = shit"
   ]
  },
  {
   "cell_type": "code",
   "execution_count": null,
   "metadata": {},
   "outputs": [],
   "source": []
  },
  {
   "cell_type": "code",
   "execution_count": 206,
   "metadata": {},
   "outputs": [],
   "source": [
    "temp = myclass(\"Bob\",\"cool\")"
   ]
  },
  {
   "cell_type": "code",
   "execution_count": 208,
   "metadata": {},
   "outputs": [],
   "source": [
    "hi = temp.last_name()"
   ]
  },
  {
   "cell_type": "code",
   "execution_count": 210,
   "metadata": {},
   "outputs": [
    {
     "data": {
      "text/plain": [
       "'Bob poop'"
      ]
     },
     "execution_count": 210,
     "metadata": {},
     "output_type": "execute_result"
    }
   ],
   "source": [
    "hi"
   ]
  },
  {
   "cell_type": "code",
   "execution_count": null,
   "metadata": {},
   "outputs": [],
   "source": []
  },
  {
   "cell_type": "code",
   "execution_count": null,
   "metadata": {},
   "outputs": [],
   "source": []
  },
  {
   "cell_type": "code",
   "execution_count": null,
   "metadata": {},
   "outputs": [],
   "source": []
  },
  {
   "cell_type": "code",
   "execution_count": 123,
   "metadata": {},
   "outputs": [],
   "source": [
    "temp.last_name()"
   ]
  },
  {
   "cell_type": "code",
   "execution_count": 127,
   "metadata": {},
   "outputs": [
    {
     "data": {
      "text/plain": [
       "'Bob'"
      ]
     },
     "execution_count": 127,
     "metadata": {},
     "output_type": "execute_result"
    }
   ],
   "source": [
    "temp.extra_shit"
   ]
  },
  {
   "cell_type": "code",
   "execution_count": 168,
   "metadata": {},
   "outputs": [],
   "source": [
    "import numpy"
   ]
  },
  {
   "cell_type": "code",
   "execution_count": 485,
   "metadata": {},
   "outputs": [],
   "source": [
    "with open('./Project1-main/'+ 'sequences/prot-0860.fa') as f:\n",
    "    lines = f.readlines()\n"
   ]
  },
  {
   "cell_type": "code",
   "execution_count": 488,
   "metadata": {},
   "outputs": [
    {
     "data": {
      "text/plain": [
       "'MDSVCPQGKYIHPQNNSICCTKCHKGTYLYNDCPGPGQDTDCRECESGSFTASENHLRHC'"
      ]
     },
     "execution_count": 488,
     "metadata": {},
     "output_type": "execute_result"
    }
   ],
   "source": [
    "sequence = \"\"\n",
    "for i in range(1,len(lines)):\n",
    "    sequence = sequence + lines[i][0:(lines[i].find('\\n'))]\n",
    "sequence"
   ]
  },
  {
   "cell_type": "code",
   "execution_count": 487,
   "metadata": {},
   "outputs": [
    {
     "data": {
      "text/plain": [
       "['>d1ncfa1 7.25.1.1.1\\n',\n",
       " 'MDSVCPQGKYIHPQNNSICCTKCHKGTYLYNDCPGPGQDTDCRECESGSFTASENHLRHC\\n']"
      ]
     },
     "execution_count": 487,
     "metadata": {},
     "output_type": "execute_result"
    }
   ],
   "source": [
    "lines"
   ]
  },
  {
   "cell_type": "code",
   "execution_count": 437,
   "metadata": {},
   "outputs": [
    {
     "data": {
      "text/plain": [
       "'SLEAAQKSNVTSSWAKASAAWGTAGPEFFMALFDAHDDVFAKFSGLFSGAAKGTVKNTPE'"
      ]
     },
     "execution_count": 437,
     "metadata": {},
     "output_type": "execute_result"
    }
   ],
   "source": [
    "lines[1][0:60]"
   ]
  },
  {
   "cell_type": "code",
   "execution_count": 25,
   "metadata": {},
   "outputs": [],
   "source": [
    "test_mat = numpy.loadtxt(\"./Project1-main/scoring_matrices/PAM250.mat\",dtype ='str')"
   ]
  },
  {
   "cell_type": "code",
   "execution_count": 32,
   "metadata": {},
   "outputs": [],
   "source": [
    "array_dims = test_mat.shape"
   ]
  },
  {
   "cell_type": "code",
   "execution_count": 33,
   "metadata": {},
   "outputs": [
    {
     "data": {
      "text/plain": [
       "(25, 24)"
      ]
     },
     "execution_count": 33,
     "metadata": {},
     "output_type": "execute_result"
    }
   ],
   "source": [
    "array_dims"
   ]
  },
  {
   "cell_type": "code",
   "execution_count": 139,
   "metadata": {},
   "outputs": [],
   "source": [
    "look_up = test_mat[0,]"
   ]
  },
  {
   "cell_type": "code",
   "execution_count": 46,
   "metadata": {},
   "outputs": [],
   "source": [
    "values = numpy.array([[int(test_mat[j,i]) for i in range(0,24)] for j in range(1,25)])"
   ]
  },
  {
   "cell_type": "code",
   "execution_count": 140,
   "metadata": {},
   "outputs": [
    {
     "data": {
      "text/plain": [
       "array(['A', 'R', 'N', 'D', 'C', 'Q', 'E', 'G', 'H', 'I', 'L', 'K', 'M',\n",
       "       'F', 'P', 'S', 'T', 'W', 'Y', 'V', 'B', 'Z', 'X', '*'], dtype='<U2')"
      ]
     },
     "execution_count": 140,
     "metadata": {},
     "output_type": "execute_result"
    }
   ],
   "source": [
    "look_up"
   ]
  },
  {
   "cell_type": "code",
   "execution_count": 48,
   "metadata": {},
   "outputs": [
    {
     "data": {
      "text/plain": [
       "-5"
      ]
     },
     "execution_count": 48,
     "metadata": {},
     "output_type": "execute_result"
    }
   ],
   "source": [
    "values[3,4]"
   ]
  },
  {
   "cell_type": "code",
   "execution_count": 275,
   "metadata": {},
   "outputs": [],
   "source": [
    "aa_loc = int(numpy.where(look_up == 'C')[0])"
   ]
  },
  {
   "cell_type": "code",
   "execution_count": 274,
   "metadata": {},
   "outputs": [
    {
     "data": {
      "text/plain": [
       "4"
      ]
     },
     "execution_count": 274,
     "metadata": {},
     "output_type": "execute_result"
    }
   ],
   "source": [
    "int(aa_loc)"
   ]
  },
  {
   "cell_type": "code",
   "execution_count": 692,
   "metadata": {},
   "outputs": [
    {
     "data": {
      "text/plain": [
       "array([[0., 0., 0., ..., 0., 0., 0.],\n",
       "       [0., 0., 0., ..., 0., 0., 0.],\n",
       "       [0., 0., 0., ..., 0., 0., 0.],\n",
       "       ...,\n",
       "       [0., 0., 0., ..., 3., 0., 0.],\n",
       "       [0., 0., 0., ..., 0., 0., 0.],\n",
       "       [0., 2., 0., ..., 3., 0., 0.]])"
      ]
     },
     "execution_count": 692,
     "metadata": {},
     "output_type": "execute_result"
    }
   ],
   "source": [
    "%run ./Project1-main/align/algs.py\n",
    "test_1 = SmithWaterman('sequences/prot-0819.fa','sequences/prot-0616.fa','./Project1-main/scoring_matrices/BLOSUM50.mat')\n",
    "test_1.read_scoring_mat()\n",
    "test_1.set_gap_penalties(-11,-3)\n",
    "test_1.set_up_align_mats()\n",
    "test_1.step_through()\n",
    "test_1.mat_Ms\n"
   ]
  },
  {
   "cell_type": "code",
   "execution_count": 610,
   "metadata": {},
   "outputs": [
    {
     "data": {
      "text/plain": [
       "' ALLSFERKYRVRGGTLIGGDLFDFWVGPYFVGFFGVSAIFFIFLGVSLIGYAASQGPTWDPFAISINPPDLKYGLGAAPLLEGGFWQAITVCALGAFISWMLREVEISRKLGIGWHVPLAFCVPIFMFCVLQVFRPLLLGSWGHAFPYGILSHLDWVNNFGYQYLNWHYNPGHMSSVSFLFVNAMALGLHGGLILSVANPGDGDKVKTAEHENQYFRDVVGYSIGALSIHRLGLFLASNIFLTGAFGTIASGPFxxxxxxxxxxxxLDIPFWS'"
      ]
     },
     "execution_count": 610,
     "metadata": {},
     "output_type": "execute_result"
    }
   ],
   "source": [
    "test_1.sequence_1"
   ]
  },
  {
   "cell_type": "code",
   "execution_count": 578,
   "metadata": {},
   "outputs": [],
   "source": [
    "test_1.follow_back()"
   ]
  },
  {
   "cell_type": "code",
   "execution_count": 579,
   "metadata": {},
   "outputs": [
    {
     "data": {
      "text/plain": [
       "'PPYTIVYFPVRGRCEAMRMLLADQGQSWKEEVVTI------D-T-WMQGLLKPTCLYGQLPKFEDGDLTLYQSNAILRHLGRS'"
      ]
     },
     "execution_count": 579,
     "metadata": {},
     "output_type": "execute_result"
    }
   ],
   "source": [
    "test_1.final_sequence_2"
   ]
  },
  {
   "cell_type": "code",
   "execution_count": 582,
   "metadata": {},
   "outputs": [
    {
     "data": {
      "text/plain": [
       "'-PMILGYWNVRGLTHPIRLLLEYTDSSYEEKRYAMGDAPDYDRSQWLNEKFKLGLDFPNLPYLIDGSRKITQSNAIMRYLARK'"
      ]
     },
     "execution_count": 582,
     "metadata": {},
     "output_type": "execute_result"
    }
   ],
   "source": [
    "test_1.final_sequence_1"
   ]
  },
  {
   "cell_type": "code",
   "execution_count": 584,
   "metadata": {},
   "outputs": [],
   "source": [
    "with open('./Project1-main/'+ 'scoring_matrices/Negpairs.txt') as f:\n",
    "    pairs_txt = f.readlines()\n"
   ]
  },
  {
   "cell_type": "code",
   "execution_count": 585,
   "metadata": {},
   "outputs": [
    {
     "data": {
      "text/plain": [
       "['sequences/prot-0018.fa sequences/prot-0198.fa\\n',\n",
       " 'sequences/prot-0035.fa sequences/prot-0071.fa\\n',\n",
       " 'sequences/prot-0056.fa sequences/prot-0826.fa\\n',\n",
       " 'sequences/prot-0075.fa sequences/prot-0561.fa\\n',\n",
       " 'sequences/prot-0093.fa sequences/prot-0091.fa\\n',\n",
       " 'sequences/prot-0110.fa sequences/prot-0613.fa\\n',\n",
       " 'sequences/prot-0131.fa sequences/prot-0547.fa\\n',\n",
       " 'sequences/prot-0148.fa sequences/prot-0369.fa\\n',\n",
       " 'sequences/prot-0166.fa sequences/prot-0839.fa\\n',\n",
       " 'sequences/prot-0186.fa sequences/prot-0014.fa\\n',\n",
       " 'sequences/prot-0206.fa sequences/prot-0313.fa\\n',\n",
       " 'sequences/prot-0228.fa sequences/prot-0121.fa\\n',\n",
       " 'sequences/prot-0244.fa sequences/prot-0817.fa\\n',\n",
       " 'sequences/prot-0262.fa sequences/prot-0540.fa\\n',\n",
       " 'sequences/prot-0286.fa sequences/prot-0641.fa\\n',\n",
       " 'sequences/prot-0305.fa sequences/prot-0785.fa\\n',\n",
       " 'sequences/prot-0326.fa sequences/prot-0712.fa\\n',\n",
       " 'sequences/prot-0346.fa sequences/prot-0063.fa\\n',\n",
       " 'sequences/prot-0363.fa sequences/prot-0345.fa\\n',\n",
       " 'sequences/prot-0380.fa sequences/prot-0553.fa\\n',\n",
       " 'sequences/prot-0397.fa sequences/prot-0470.fa\\n',\n",
       " 'sequences/prot-0414.fa sequences/prot-0903.fa\\n',\n",
       " 'sequences/prot-0431.fa sequences/prot-0093.fa\\n',\n",
       " 'sequences/prot-0446.fa sequences/prot-0424.fa\\n',\n",
       " 'sequences/prot-0469.fa sequences/prot-0609.fa\\n',\n",
       " 'sequences/prot-0486.fa sequences/prot-0314.fa\\n',\n",
       " 'sequences/prot-0503.fa sequences/prot-0454.fa\\n',\n",
       " 'sequences/prot-0520.fa sequences/prot-0088.fa\\n',\n",
       " 'sequences/prot-0536.fa sequences/prot-0452.fa\\n',\n",
       " 'sequences/prot-0552.fa sequences/prot-0460.fa\\n',\n",
       " 'sequences/prot-0571.fa sequences/prot-0711.fa\\n',\n",
       " 'sequences/prot-0595.fa sequences/prot-0503.fa\\n',\n",
       " 'sequences/prot-0616.fa sequences/prot-0819.fa\\n',\n",
       " 'sequences/prot-0631.fa sequences/prot-0386.fa\\n',\n",
       " 'sequences/prot-0648.fa sequences/prot-0022.fa\\n',\n",
       " 'sequences/prot-0665.fa sequences/prot-0100.fa\\n',\n",
       " 'sequences/prot-0682.fa sequences/prot-0873.fa\\n',\n",
       " 'sequences/prot-0699.fa sequences/prot-0760.fa\\n',\n",
       " 'sequences/prot-0716.fa sequences/prot-0710.fa\\n',\n",
       " 'sequences/prot-0734.fa sequences/prot-0108.fa\\n',\n",
       " 'sequences/prot-0750.fa sequences/prot-0875.fa\\n',\n",
       " 'sequences/prot-0772.fa sequences/prot-0886.fa\\n',\n",
       " 'sequences/prot-0791.fa sequences/prot-0245.fa\\n',\n",
       " 'sequences/prot-0805.fa sequences/prot-0261.fa\\n',\n",
       " 'sequences/prot-0821.fa sequences/prot-0591.fa\\n',\n",
       " 'sequences/prot-0843.fa sequences/prot-0026.fa\\n',\n",
       " 'sequences/prot-0860.fa sequences/prot-0510.fa\\n',\n",
       " 'sequences/prot-0878.fa sequences/prot-0524.fa\\n',\n",
       " 'sequences/prot-0900.fa sequences/prot-0264.fa\\n',\n",
       " 'sequences/prot-0915.fa sequences/prot-0407.fa\\n']"
      ]
     },
     "execution_count": 585,
     "metadata": {},
     "output_type": "execute_result"
    }
   ],
   "source": [
    "pairs_txt"
   ]
  },
  {
   "cell_type": "code",
   "execution_count": 641,
   "metadata": {},
   "outputs": [
    {
     "data": {
      "text/plain": [
       "50"
      ]
     },
     "execution_count": 641,
     "metadata": {},
     "output_type": "execute_result"
    }
   ],
   "source": [
    "pairs = []\n",
    "for i in range(0,len(pairs_txt)):\n",
    "    pair_temp = [pairs_txt[i][0:pairs_txt[i].find(\" \")],pairs_txt[i][pairs_txt[i].find(\" \")+1:pairs_txt[i].find(\"\\n\")]]\n",
    "    pairs.append(pair_temp)\n",
    "len(pairs)"
   ]
  },
  {
   "cell_type": "code",
   "execution_count": 637,
   "metadata": {},
   "outputs": [
    {
     "name": "stdout",
     "output_type": "stream",
     "text": [
      "0\n",
      "1\n",
      "2\n",
      "3\n",
      "4\n",
      "5\n",
      "6\n",
      "7\n",
      "8\n",
      "9\n",
      "10\n",
      "11\n",
      "12\n",
      "13\n",
      "14\n",
      "15\n",
      "16\n",
      "17\n",
      "18\n",
      "19\n",
      "20\n",
      "21\n",
      "22\n",
      "23\n",
      "24\n",
      "25\n",
      "26\n",
      "27\n",
      "28\n",
      "29\n",
      "30\n",
      "31\n",
      "32\n",
      "33\n",
      "34\n",
      "35\n",
      "36\n",
      "37\n",
      "38\n",
      "39\n",
      "40\n",
      "41\n",
      "42\n",
      "43\n",
      "44\n",
      "45\n",
      "46\n",
      "47\n",
      "48\n",
      "49\n"
     ]
    }
   ],
   "source": [
    "%run ./Project1-main/align/algs.py\n",
    "neg_align_seq = []\n",
    "neg_align_scr = []\n",
    "for j in range(len(pairs)):\n",
    "    temp_align = SmithWaterman(pairs[j][0],pairs[j][1],'./Project1-main/scoring_matrices/BLOSUM50.mat')\n",
    "    temp_align.read_scoring_mat()\n",
    "    temp_align.set_gap_penalties(-11,-3)\n",
    "    temp_align.set_up_align_mats()\n",
    "    temp_align.step_through()\n",
    "    temp_align.follow_back()\n",
    "    neg_align_seq.append([temp_align.final_sequence_1,temp_align.final_sequence_2])\n",
    "    neg_align_scr.append(temp_align.alignment_score)\n",
    "    print(j)"
   ]
  },
  {
   "cell_type": "code",
   "execution_count": 638,
   "metadata": {},
   "outputs": [
    {
     "data": {
      "text/plain": [
       "60.94"
      ]
     },
     "execution_count": 638,
     "metadata": {},
     "output_type": "execute_result"
    }
   ],
   "source": [
    "numpy.mean(neg_align_scr)"
   ]
  },
  {
   "cell_type": "code",
   "execution_count": 639,
   "metadata": {},
   "outputs": [
    {
     "data": {
      "text/plain": [
       "['GPEFFMALFDAHDDVFAKFSGLFSGAAKGTVKNTPEMAAQAQSF',\n",
       " 'GIDLYKHMFENYPPLRKYFKSREEYTAE-DVQNDPFFAKQGQKI']"
      ]
     },
     "execution_count": 639,
     "metadata": {},
     "output_type": "execute_result"
    }
   ],
   "source": [
    "neg_align_seq[0]"
   ]
  },
  {
   "cell_type": "code",
   "execution_count": 640,
   "metadata": {},
   "outputs": [],
   "source": [
    "with open('./Project1-main/'+ 'scoring_matrices/Pospairs.txt') as f:\n",
    "    pairs_txt = f.readlines()\n",
    "    pairs = []\n",
    "for i in range(0,len(pairs_txt)):\n",
    "    pair_temp = [pairs_txt[i][0:pairs_txt[i].find(\" \")],pairs_txt[i][pairs_txt[i].find(\" \")+1:pairs_txt[i].find(\"\\n\")]]\n",
    "    pairs.append(pair_temp)\n",
    "pos_align_seq = []\n",
    "pos_align_scr = []\n",
    "for j in range(len(pairs)):\n",
    "        temp_align = SmithWaterman(pairs[j][0],pairs[j][1],'./Project1-main/scoring_matrices/BLOSUM50.mat')\n",
    "        temp_align.read_scoring_mat()\n",
    "        temp_align.set_gap_penalties(-11,-3)\n",
    "        temp_align.set_up_align_mats()\n",
    "        temp_align.step_through()\n",
    "        temp_align.follow_back()\n",
    "        pos_align_seq.append([temp_align.final_sequence_1,temp_align.final_sequence_2])\n",
    "        pos_align_scr.append(temp_align.alignment_score)"
   ]
  },
  {
   "cell_type": "code",
   "execution_count": 620,
   "metadata": {},
   "outputs": [
    {
     "data": {
      "text/plain": [
       "60.94"
      ]
     },
     "execution_count": 620,
     "metadata": {},
     "output_type": "execute_result"
    }
   ],
   "source": [
    "numpy.mean(pos_align_scr)"
   ]
  },
  {
   "cell_type": "code",
   "execution_count": 667,
   "metadata": {},
   "outputs": [
    {
     "data": {
      "image/png": "[encoded data removed]",
      "text/plain": [
       "<Figure size 432x288 with 1 Axes>"
      ]
     },
     "metadata": {
      "needs_background": "light"
     },
     "output_type": "display_data"
    }
   ],
   "source": [
    "%run ./Project1-main/align/algs.py\n",
    "with open('./Project1-main/'+ 'scoring_matrices/Negpairs.txt') as f:\n",
    "    pairs_txt = f.readlines()\n",
    "    pairs = []\n",
    "for i in range(0,len(pairs_txt)):\n",
    "    pair_temp = [pairs_txt[i][0:pairs_txt[i].find(\" \")],pairs_txt[i][pairs_txt[i].find(\" \")+1:pairs_txt[i].find(\"\\n\")]]\n",
    "    pairs.append(pair_temp)\n",
    "neg_align_seq = []\n",
    "neg_align_scr = []\n",
    "for j in range(len(pairs)):\n",
    "        temp_align = SmithWaterman(pairs[j][0],pairs[j][1],'./Project1-main/scoring_matrices/BLOSUM50.mat')\n",
    "        temp_align.read_scoring_mat()\n",
    "        temp_align.set_gap_penalties(-11,-3)\n",
    "        temp_align.set_up_align_mats()\n",
    "        temp_align.step_through()\n",
    "        temp_align.follow_back()\n",
    "        neg_align_seq.append([temp_align.final_sequence_1,temp_align.final_sequence_2])\n",
    "        neg_align_scr.append(temp_align.alignment_score)\n",
    "\n",
    "        \n",
    "        \n",
    "with open('./Project1-main/'+ 'scoring_matrices/Pospairs.txt') as f:\n",
    "    pairs_txt = f.readlines()\n",
    "    pairs = []\n",
    "for i in range(0,len(pairs_txt)):\n",
    "    pair_temp = [pairs_txt[i][0:pairs_txt[i].find(\" \")],pairs_txt[i][pairs_txt[i].find(\" \")+1:pairs_txt[i].find(\"\\n\")]]\n",
    "    pairs.append(pair_temp)\n",
    "pos_align_seq = []\n",
    "pos_align_scr = []\n",
    "for j in range(len(pairs)):\n",
    "        temp_align = SmithWaterman(pairs[j][0],pairs[j][1],'./Project1-main/scoring_matrices/BLOSUM50.mat')\n",
    "        temp_align.read_scoring_mat()\n",
    "        temp_align.set_gap_penalties(-11,-3)\n",
    "        temp_align.set_up_align_mats()\n",
    "        temp_align.step_through()\n",
    "        temp_align.follow_back()\n",
    "        pos_align_seq.append([temp_align.final_sequence_1,temp_align.final_sequence_2])\n",
    "        pos_align_scr.append(temp_align.alignment_score)\n",
    "        \n",
    "numpy.mean(neg_align_scr)\n",
    "numpy.mean(pos_align_scr)\n",
    "        \n",
    "import matplotlib.pyplot as plt\n",
    "\n",
    "bins = numpy.linspace(0, 400, 100)\n",
    "plt.hist(neg_align_scr, bins, alpha = 0.5, label = 'negative')\n",
    "plt.hist(pos_align_scr, bins, alpha = 0.5, label = 'positive')\n",
    "plt.legend(loc='upper right')\n",
    "plt.show()"
   ]
  },
  {
   "cell_type": "code",
   "execution_count": 657,
   "metadata": {},
   "outputs": [],
   "source": [
    "all_scores = neg_align_scr + pos_align_scr\n",
    "all_score_mean = numpy.mean(all_scores)"
   ]
  },
  {
   "cell_type": "code",
   "execution_count": 658,
   "metadata": {},
   "outputs": [
    {
     "data": {
      "text/plain": [
       "49.27272727272727"
      ]
     },
     "execution_count": 658,
     "metadata": {},
     "output_type": "execute_result"
    }
   ],
   "source": [
    "all_score_mean"
   ]
  },
  {
   "cell_type": "code",
   "execution_count": 650,
   "metadata": {},
   "outputs": [
    {
     "data": {
      "image/png": "[encoded data removed]",
      "text/plain": [
       "<Figure size 432x288 with 1 Axes>"
      ]
     },
     "metadata": {
      "needs_background": "light"
     },
     "output_type": "display_data"
    }
   ],
   "source": [
    "import matplotlib.pyplot as plt\n",
    "\n",
    "bins = numpy.linspace(0, 400, 100)\n",
    "plt.hist(neg_align_scr, bins, alpha = 0.5, label = 'negative')\n",
    "plt.hist(pos_align_scr, bins, alpha = 0.5, label = 'positive')\n",
    "plt.legend(loc='upper right')\n",
    "plt.show()"
   ]
  },
  {
   "cell_type": "code",
   "execution_count": 663,
   "metadata": {},
   "outputs": [],
   "source": [
    "confusion = numpy.zeros([2,2])\n",
    "true_neg = len([i for i in neg_align_scr if i < all_score_mean])\n",
    "confusion[0,0] = true_neg\n",
    "false_pos = len([i for i in neg_align_scr if i >= all_score_mean])\n",
    "confusion[0,1] = false_pos\n",
    "false_neg = len([i for i in pos_align_scr if i < all_score_mean])\n",
    "confusion[1,0] = false_neg\n",
    "true_pos = len([i for i in pos_align_scr if i >= all_score_mean])\n",
    "confusion[1,1] = true_pos"
   ]
  },
  {
   "cell_type": "code",
   "execution_count": 666,
   "metadata": {},
   "outputs": [
    {
     "ename": "SyntaxError",
     "evalue": "invalid syntax (<ipython-input-666-9edca6870ea5>, line 1)",
     "output_type": "error",
     "traceback": [
      "\u001b[0;36m  File \u001b[0;32m\"<ipython-input-666-9edca6870ea5>\"\u001b[0;36m, line \u001b[0;32m1\u001b[0m\n\u001b[0;31m    sum(confusion[,0])\u001b[0m\n\u001b[0m                  ^\u001b[0m\n\u001b[0;31mSyntaxError\u001b[0m\u001b[0;31m:\u001b[0m invalid syntax\n"
     ]
    }
   ],
   "source": [
    "sum(confusion[,0])"
   ]
  },
  {
   "cell_type": "code",
   "execution_count": 622,
   "metadata": {},
   "outputs": [
    {
     "name": "stdout",
     "output_type": "stream",
     "text": [
      "Defaulting to user installation because normal site-packages is not writeable\n",
      "Collecting matplotlib\n",
      "  Downloading matplotlib-3.3.3-cp38-cp38-manylinux1_x86_64.whl (11.6 MB)\n",
      "\u001b[K     |████████████████████████████████| 11.6 MB 5.0 MB/s eta 0:00:01\n",
      "\u001b[?25hRequirement already satisfied: pillow>=6.2.0 in /usr/lib/python3/dist-packages (from matplotlib) (7.0.0)\n",
      "Requirement already satisfied: pyparsing!=2.0.4,!=2.1.2,!=2.1.6,>=2.0.3 in /home/benjamin/.local/lib/python3.8/site-packages (from matplotlib) (2.4.7)\n",
      "Requirement already satisfied: python-dateutil>=2.1 in /usr/lib/python3/dist-packages (from matplotlib) (2.7.3)\n",
      "Requirement already satisfied: numpy>=1.15 in /home/benjamin/.local/lib/python3.8/site-packages (from matplotlib) (1.19.5)\n",
      "Collecting cycler>=0.10\n",
      "  Downloading cycler-0.10.0-py2.py3-none-any.whl (6.5 kB)\n",
      "Requirement already satisfied: six in /usr/lib/python3/dist-packages (from cycler>=0.10->matplotlib) (1.14.0)\n",
      "Collecting kiwisolver>=1.0.1\n",
      "  Downloading kiwisolver-1.3.1-cp38-cp38-manylinux1_x86_64.whl (1.2 MB)\n",
      "\u001b[K     |████████████████████████████████| 1.2 MB 8.6 MB/s eta 0:00:01\n",
      "\u001b[?25hInstalling collected packages: kiwisolver, cycler, matplotlib\n",
      "Successfully installed cycler-0.10.0 kiwisolver-1.3.1 matplotlib-3.3.3\n",
      "Note: you may need to restart the kernel to use updated packages.\n"
     ]
    }
   ],
   "source": [
    "pip install matplotlib"
   ]
  },
  {
   "cell_type": "code",
   "execution_count": 680,
   "metadata": {},
   "outputs": [
    {
     "data": {
      "text/plain": [
       "[<matplotlib.lines.Line2D at 0x7f937e9cd730>]"
      ]
     },
     "execution_count": 680,
     "metadata": {},
     "output_type": "execute_result"
    },
    {
     "data": {
      "image/png": "[encoded data removed]",
      "text/plain": [
       "<Figure size 432x288 with 1 Axes>"
      ]
     },
     "metadata": {
      "needs_background": "light"
     },
     "output_type": "display_data"
    }
   ],
   "source": [
    "roc_TPRs = []\n",
    "roc_FPRs = []\n",
    "\n",
    "for i in range(400):\n",
    "    all_score_mean = i\n",
    "    confusion = numpy.zeros([2,2])\n",
    "    true_neg = len([i for i in neg_align_scr if i < all_score_mean])\n",
    "    confusion[0,0] = true_neg\n",
    "    false_pos = len([i for i in neg_align_scr if i >= all_score_mean])\n",
    "    confusion[0,1] = false_pos\n",
    "    false_neg = len([i for i in pos_align_scr if i < all_score_mean])\n",
    "    confusion[1,0] = false_neg\n",
    "    true_pos = len([i for i in pos_align_scr if i >= all_score_mean])\n",
    "    confusion[1,1] = true_pos\n",
    "\n",
    "    TPR = true_pos/(false_neg+true_pos)\n",
    "    FPR = false_pos/(false_pos+true_neg)\n",
    "    roc_TPRs.append(TPR)\n",
    "    roc_FPRs.append(FPR)\n",
    "    \n",
    "plt.plot(roc_FPRs, roc_TPRs, 'o', color = 'black')"
   ]
  },
  {
   "cell_type": "code",
   "execution_count": 681,
   "metadata": {},
   "outputs": [],
   "source": [
    "#determine ROC_AUC\n",
    "roc_AUC = 0\n",
    "\n",
    "for i in range(len(roc_TPRs)-1):\n",
    "    roc_AUC = roc_AUC + (roc_TPRs[i]+roc_TPRs[i+1])/2*(roc_FPRs[i]-roc_FPRs[i+1])"
   ]
  },
  {
   "cell_type": "code",
   "execution_count": 694,
   "metadata": {},
   "outputs": [
    {
     "name": "stdout",
     "output_type": "stream",
     "text": [
      "20 5\r"
     ]
    }
   ],
   "source": [
    "gap_roc_AUCs = numpy.zeros([20,5])\n",
    "with open('./Project1-main/'+ 'scoring_matrices/Negpairs.txt') as f:\n",
    "    pairs_txt_neg = f.readlines()\n",
    "    pairs_neg = []\n",
    "for i in range(0,len(pairs_txt_neg)):\n",
    "    pair_temp_neg = [pairs_txt_neg[i][0:pairs_txt_neg[i].find(\" \")],pairs_txt_neg[i][pairs_txt_neg[i].find(\" \")+1:pairs_txt_neg[i].find(\"\\n\")]]\n",
    "    pairs_neg.append(pair_temp_neg)\n",
    "\n",
    "#read in positive pairs\n",
    "with open('./Project1-main/'+ 'scoring_matrices/Pospairs.txt') as f:\n",
    "    pairs_txt_pos = f.readlines()\n",
    "    pairs_pos = []\n",
    "for i in range(0,len(pairs_txt_pos)):\n",
    "    pair_temp_pos = [pairs_txt_pos[i][0:pairs_txt_pos[i].find(\" \")],pairs_txt_pos[i][pairs_txt_pos[i].find(\" \")+1:pairs_txt_pos[i].find(\"\\n\")]]\n",
    "    pairs_pos.append(pair_temp_pos)\n",
    "            \n",
    "for z in range(1,21):\n",
    "    for zed in range(1,6):\n",
    "        #run local alignment on negative pairs\n",
    "        neg_align_seq = []\n",
    "        neg_align_scr = []\n",
    "        for j in range(len(pairs_neg)):\n",
    "                temp_align = SmithWaterman(pairs_neg[j][0],pairs_neg[j][1],'./Project1-main/scoring_matrices/BLOSUM50.mat')\n",
    "                temp_align.read_scoring_mat()\n",
    "                temp_align.set_gap_penalties(-z,-zed)\n",
    "                temp_align.set_up_align_mats()\n",
    "                temp_align.step_through()\n",
    "                temp_align.follow_back()\n",
    "                neg_align_seq.append([temp_align.final_sequence_1,temp_align.final_sequence_2])\n",
    "                neg_align_scr.append(temp_align.alignment_score)\n",
    "\n",
    "\n",
    "        \n",
    "        #align positive pairs\n",
    "        pos_align_seq = []\n",
    "        pos_align_scr = []\n",
    "        for j in range(len(pairs_pos)):\n",
    "                temp_align = SmithWaterman(pairs_pos[j][0],pairs_pos[j][1],'./Project1-main/scoring_matrices/BLOSUM50.mat')\n",
    "                temp_align.read_scoring_mat()\n",
    "                temp_align.set_gap_penalties(-z,-zed)\n",
    "                temp_align.set_up_align_mats()\n",
    "                temp_align.step_through()\n",
    "                temp_align.follow_back()\n",
    "                pos_align_seq.append([temp_align.final_sequence_1,temp_align.final_sequence_2])\n",
    "                pos_align_scr.append(temp_align.alignment_score)\n",
    "                \n",
    "        roc_TPRs = []\n",
    "        roc_FPRs = []\n",
    "\n",
    "        for i in range(400):\n",
    "            all_score_mean = i\n",
    "            confusion = numpy.zeros([2,2])\n",
    "            true_neg = len([i for i in neg_align_scr if i < all_score_mean])\n",
    "            confusion[0,0] = true_neg\n",
    "            false_pos = len([i for i in neg_align_scr if i >= all_score_mean])\n",
    "            confusion[0,1] = false_pos\n",
    "            false_neg = len([i for i in pos_align_scr if i < all_score_mean])\n",
    "            confusion[1,0] = false_neg\n",
    "            true_pos = len([i for i in pos_align_scr if i >= all_score_mean])\n",
    "            confusion[1,1] = true_pos\n",
    "\n",
    "            TPR = true_pos/(false_neg+true_pos)\n",
    "            FPR = false_pos/(false_pos+true_neg)\n",
    "            roc_TPRs.append(TPR)\n",
    "            roc_FPRs.append(FPR)\n",
    "        \n",
    "        print(z,zed,end='\\r')\n",
    "\n",
    "        #determine ROC_AUC\n",
    "        roc_AUC = 0\n",
    "\n",
    "        for i in range(len(roc_TPRs)-1):\n",
    "            roc_AUC = roc_AUC + (roc_TPRs[i]+roc_TPRs[i+1])/2*(roc_FPRs[i]-roc_FPRs[i+1])\n",
    "        \n",
    "        gap_roc_AUCs[z-1,zed-1] = roc_AUC\n",
    "        "
   ]
  },
  {
   "cell_type": "code",
   "execution_count": 696,
   "metadata": {},
   "outputs": [
    {
     "data": {
      "text/plain": [
       "(array([5]), array([4]))"
      ]
     },
     "execution_count": 696,
     "metadata": {},
     "output_type": "execute_result"
    }
   ],
   "source": [
    "numpy.where(gap_roc_AUCs == numpy.amax(gap_roc_AUCs))"
   ]
  },
  {
   "cell_type": "code",
   "execution_count": 723,
   "metadata": {},
   "outputs": [
    {
     "ename": "ModuleNotFoundError",
     "evalue": "No module named 'align'",
     "output_type": "error",
     "traceback": [
      "\u001b[0;31m---------------------------------------------------------------------------\u001b[0m",
      "\u001b[0;31mModuleNotFoundError\u001b[0m                       Traceback (most recent call last)",
      "\u001b[0;32m<ipython-input-723-072cf84ae477>\u001b[0m in \u001b[0;36m<module>\u001b[0;34m\u001b[0m\n\u001b[0;32m----> 1\u001b[0;31m \u001b[0;32mfrom\u001b[0m \u001b[0malign\u001b[0m \u001b[0;32mimport\u001b[0m \u001b[0malgs\u001b[0m\u001b[0;34m\u001b[0m\u001b[0;34m\u001b[0m\u001b[0m\n\u001b[0m",
      "\u001b[0;31mModuleNotFoundError\u001b[0m: No module named 'align'"
     ]
    }
   ],
   "source": [
    "from align import algs"
   ]
  },
  {
   "cell_type": "code",
   "execution_count": 724,
   "metadata": {},
   "outputs": [
    {
     "ename": "OSError",
     "evalue": "scoring_matrices/BLOSUM50.mat not found.",
     "output_type": "error",
     "traceback": [
      "\u001b[0;31m---------------------------------------------------------------------------\u001b[0m",
      "\u001b[0;31mOSError\u001b[0m                                   Traceback (most recent call last)",
      "\u001b[0;32m<ipython-input-724-5ca1bcf155d4>\u001b[0m in \u001b[0;36m<module>\u001b[0;34m\u001b[0m\n\u001b[1;32m      9\u001b[0m     \u001b[0;32mfor\u001b[0m \u001b[0mj\u001b[0m \u001b[0;32min\u001b[0m \u001b[0mrange\u001b[0m\u001b[0;34m(\u001b[0m\u001b[0mlen\u001b[0m\u001b[0;34m(\u001b[0m\u001b[0mpairs_neg\u001b[0m\u001b[0;34m)\u001b[0m\u001b[0;34m)\u001b[0m\u001b[0;34m:\u001b[0m\u001b[0;34m\u001b[0m\u001b[0;34m\u001b[0m\u001b[0m\n\u001b[1;32m     10\u001b[0m             \u001b[0mtemp_align\u001b[0m \u001b[0;34m=\u001b[0m \u001b[0mNeedlemanWunsch\u001b[0m\u001b[0;34m(\u001b[0m\u001b[0mpairs_neg\u001b[0m\u001b[0;34m[\u001b[0m\u001b[0mj\u001b[0m\u001b[0;34m]\u001b[0m\u001b[0;34m[\u001b[0m\u001b[0;36m0\u001b[0m\u001b[0;34m]\u001b[0m\u001b[0;34m,\u001b[0m\u001b[0mpairs_neg\u001b[0m\u001b[0;34m[\u001b[0m\u001b[0mj\u001b[0m\u001b[0;34m]\u001b[0m\u001b[0;34m[\u001b[0m\u001b[0;36m1\u001b[0m\u001b[0;34m]\u001b[0m\u001b[0;34m,\u001b[0m\u001b[0mmatrix_location\u001b[0m\u001b[0;34m)\u001b[0m\u001b[0;34m\u001b[0m\u001b[0;34m\u001b[0m\u001b[0m\n\u001b[0;32m---> 11\u001b[0;31m             \u001b[0mtemp_align\u001b[0m\u001b[0;34m.\u001b[0m\u001b[0mread_scoring_mat\u001b[0m\u001b[0;34m(\u001b[0m\u001b[0;34m)\u001b[0m\u001b[0;34m\u001b[0m\u001b[0;34m\u001b[0m\u001b[0m\n\u001b[0m\u001b[1;32m     12\u001b[0m             \u001b[0mtemp_align\u001b[0m\u001b[0;34m.\u001b[0m\u001b[0mset_gap_penalties\u001b[0m\u001b[0;34m(\u001b[0m\u001b[0;34m-\u001b[0m\u001b[0mz\u001b[0m\u001b[0;34m,\u001b[0m\u001b[0;34m-\u001b[0m\u001b[0mzed\u001b[0m\u001b[0;34m)\u001b[0m\u001b[0;34m\u001b[0m\u001b[0;34m\u001b[0m\u001b[0m\n\u001b[1;32m     13\u001b[0m             \u001b[0mtemp_align\u001b[0m\u001b[0;34m.\u001b[0m\u001b[0mset_up_align_mats\u001b[0m\u001b[0;34m(\u001b[0m\u001b[0;34m)\u001b[0m\u001b[0;34m\u001b[0m\u001b[0;34m\u001b[0m\u001b[0m\n",
      "\u001b[0;32m~/Downloads/Ansel_Lab_Things/algorithms/Project1-main/align/algs.py\u001b[0m in \u001b[0;36mread_scoring_mat\u001b[0;34m(self)\u001b[0m\n\u001b[1;32m     22\u001b[0m     \u001b[0;31m#define function for reading the score matrices\u001b[0m\u001b[0;34m\u001b[0m\u001b[0;34m\u001b[0m\u001b[0;34m\u001b[0m\u001b[0m\n\u001b[1;32m     23\u001b[0m     \u001b[0;32mdef\u001b[0m \u001b[0mread_scoring_mat\u001b[0m\u001b[0;34m(\u001b[0m\u001b[0mself\u001b[0m\u001b[0;34m)\u001b[0m\u001b[0;34m:\u001b[0m\u001b[0;34m\u001b[0m\u001b[0;34m\u001b[0m\u001b[0m\n\u001b[0;32m---> 24\u001b[0;31m         \u001b[0;32mimport\u001b[0m \u001b[0mnumpy\u001b[0m \u001b[0;32mas\u001b[0m \u001b[0mnp\u001b[0m\u001b[0;34m\u001b[0m\u001b[0;34m\u001b[0m\u001b[0m\n\u001b[0m\u001b[1;32m     25\u001b[0m         \u001b[0mscoring_matrix_temp\u001b[0m \u001b[0;34m=\u001b[0m \u001b[0mnp\u001b[0m\u001b[0;34m.\u001b[0m\u001b[0mloadtxt\u001b[0m\u001b[0;34m(\u001b[0m\u001b[0mself\u001b[0m\u001b[0;34m.\u001b[0m\u001b[0mscoring_matrix_name\u001b[0m\u001b[0;34m,\u001b[0m\u001b[0mdtype\u001b[0m \u001b[0;34m=\u001b[0m\u001b[0;34m'str'\u001b[0m\u001b[0;34m)\u001b[0m\u001b[0;34m\u001b[0m\u001b[0;34m\u001b[0m\u001b[0m\n\u001b[1;32m     26\u001b[0m         \u001b[0mself\u001b[0m\u001b[0;34m.\u001b[0m\u001b[0mscoring_matrix\u001b[0m \u001b[0;34m=\u001b[0m \u001b[0mnp\u001b[0m\u001b[0;34m.\u001b[0m\u001b[0marray\u001b[0m\u001b[0;34m(\u001b[0m\u001b[0;34m[\u001b[0m\u001b[0;34m[\u001b[0m\u001b[0mint\u001b[0m\u001b[0;34m(\u001b[0m\u001b[0mscoring_matrix_temp\u001b[0m\u001b[0;34m[\u001b[0m\u001b[0mj\u001b[0m\u001b[0;34m,\u001b[0m\u001b[0mi\u001b[0m\u001b[0;34m]\u001b[0m\u001b[0;34m)\u001b[0m \u001b[0;32mfor\u001b[0m \u001b[0mi\u001b[0m \u001b[0;32min\u001b[0m \u001b[0mrange\u001b[0m\u001b[0;34m(\u001b[0m\u001b[0;36m0\u001b[0m\u001b[0;34m,\u001b[0m\u001b[0;36m24\u001b[0m\u001b[0;34m)\u001b[0m\u001b[0;34m]\u001b[0m \u001b[0;32mfor\u001b[0m \u001b[0mj\u001b[0m \u001b[0;32min\u001b[0m \u001b[0mrange\u001b[0m\u001b[0;34m(\u001b[0m\u001b[0;36m1\u001b[0m\u001b[0;34m,\u001b[0m\u001b[0;36m25\u001b[0m\u001b[0;34m)\u001b[0m\u001b[0;34m]\u001b[0m\u001b[0;34m)\u001b[0m\u001b[0;34m\u001b[0m\u001b[0;34m\u001b[0m\u001b[0m\n",
      "\u001b[0;32m~/.local/lib/python3.8/site-packages/numpy/lib/npyio.py\u001b[0m in \u001b[0;36mloadtxt\u001b[0;34m(fname, dtype, comments, delimiter, converters, skiprows, usecols, unpack, ndmin, encoding, max_rows)\u001b[0m\n\u001b[1;32m    959\u001b[0m             \u001b[0mfname\u001b[0m \u001b[0;34m=\u001b[0m \u001b[0mos_fspath\u001b[0m\u001b[0;34m(\u001b[0m\u001b[0mfname\u001b[0m\u001b[0;34m)\u001b[0m\u001b[0;34m\u001b[0m\u001b[0;34m\u001b[0m\u001b[0m\n\u001b[1;32m    960\u001b[0m         \u001b[0;32mif\u001b[0m \u001b[0m_is_string_like\u001b[0m\u001b[0;34m(\u001b[0m\u001b[0mfname\u001b[0m\u001b[0;34m)\u001b[0m\u001b[0;34m:\u001b[0m\u001b[0;34m\u001b[0m\u001b[0;34m\u001b[0m\u001b[0m\n\u001b[0;32m--> 961\u001b[0;31m             \u001b[0mfh\u001b[0m \u001b[0;34m=\u001b[0m \u001b[0mnp\u001b[0m\u001b[0;34m.\u001b[0m\u001b[0mlib\u001b[0m\u001b[0;34m.\u001b[0m\u001b[0m_datasource\u001b[0m\u001b[0;34m.\u001b[0m\u001b[0mopen\u001b[0m\u001b[0;34m(\u001b[0m\u001b[0mfname\u001b[0m\u001b[0;34m,\u001b[0m \u001b[0;34m'rt'\u001b[0m\u001b[0;34m,\u001b[0m \u001b[0mencoding\u001b[0m\u001b[0;34m=\u001b[0m\u001b[0mencoding\u001b[0m\u001b[0;34m)\u001b[0m\u001b[0;34m\u001b[0m\u001b[0;34m\u001b[0m\u001b[0m\n\u001b[0m\u001b[1;32m    962\u001b[0m             \u001b[0mfencoding\u001b[0m \u001b[0;34m=\u001b[0m \u001b[0mgetattr\u001b[0m\u001b[0;34m(\u001b[0m\u001b[0mfh\u001b[0m\u001b[0;34m,\u001b[0m \u001b[0;34m'encoding'\u001b[0m\u001b[0;34m,\u001b[0m \u001b[0;34m'latin1'\u001b[0m\u001b[0;34m)\u001b[0m\u001b[0;34m\u001b[0m\u001b[0;34m\u001b[0m\u001b[0m\n\u001b[1;32m    963\u001b[0m             \u001b[0mfh\u001b[0m \u001b[0;34m=\u001b[0m \u001b[0miter\u001b[0m\u001b[0;34m(\u001b[0m\u001b[0mfh\u001b[0m\u001b[0;34m)\u001b[0m\u001b[0;34m\u001b[0m\u001b[0;34m\u001b[0m\u001b[0m\n",
      "\u001b[0;32m~/.local/lib/python3.8/site-packages/numpy/lib/_datasource.py\u001b[0m in \u001b[0;36mopen\u001b[0;34m(path, mode, destpath, encoding, newline)\u001b[0m\n\u001b[1;32m    193\u001b[0m \u001b[0;34m\u001b[0m\u001b[0m\n\u001b[1;32m    194\u001b[0m     \u001b[0mds\u001b[0m \u001b[0;34m=\u001b[0m \u001b[0mDataSource\u001b[0m\u001b[0;34m(\u001b[0m\u001b[0mdestpath\u001b[0m\u001b[0;34m)\u001b[0m\u001b[0;34m\u001b[0m\u001b[0;34m\u001b[0m\u001b[0m\n\u001b[0;32m--> 195\u001b[0;31m     \u001b[0;32mreturn\u001b[0m \u001b[0mds\u001b[0m\u001b[0;34m.\u001b[0m\u001b[0mopen\u001b[0m\u001b[0;34m(\u001b[0m\u001b[0mpath\u001b[0m\u001b[0;34m,\u001b[0m \u001b[0mmode\u001b[0m\u001b[0;34m,\u001b[0m \u001b[0mencoding\u001b[0m\u001b[0;34m=\u001b[0m\u001b[0mencoding\u001b[0m\u001b[0;34m,\u001b[0m \u001b[0mnewline\u001b[0m\u001b[0;34m=\u001b[0m\u001b[0mnewline\u001b[0m\u001b[0;34m)\u001b[0m\u001b[0;34m\u001b[0m\u001b[0;34m\u001b[0m\u001b[0m\n\u001b[0m\u001b[1;32m    196\u001b[0m \u001b[0;34m\u001b[0m\u001b[0m\n\u001b[1;32m    197\u001b[0m \u001b[0;34m\u001b[0m\u001b[0m\n",
      "\u001b[0;32m~/.local/lib/python3.8/site-packages/numpy/lib/_datasource.py\u001b[0m in \u001b[0;36mopen\u001b[0;34m(self, path, mode, encoding, newline)\u001b[0m\n\u001b[1;32m    533\u001b[0m                                       encoding=encoding, newline=newline)\n\u001b[1;32m    534\u001b[0m         \u001b[0;32melse\u001b[0m\u001b[0;34m:\u001b[0m\u001b[0;34m\u001b[0m\u001b[0;34m\u001b[0m\u001b[0m\n\u001b[0;32m--> 535\u001b[0;31m             \u001b[0;32mraise\u001b[0m \u001b[0mIOError\u001b[0m\u001b[0;34m(\u001b[0m\u001b[0;34m\"%s not found.\"\u001b[0m \u001b[0;34m%\u001b[0m \u001b[0mpath\u001b[0m\u001b[0;34m)\u001b[0m\u001b[0;34m\u001b[0m\u001b[0;34m\u001b[0m\u001b[0m\n\u001b[0m\u001b[1;32m    536\u001b[0m \u001b[0;34m\u001b[0m\u001b[0m\n\u001b[1;32m    537\u001b[0m \u001b[0;34m\u001b[0m\u001b[0m\n",
      "\u001b[0;31mOSError\u001b[0m: scoring_matrices/BLOSUM50.mat not found."
     ]
    }
   ],
   "source": [
    "test_matrices = ['BLOSUM50.mat','BLOSUM62.mat','PAM100.mat','PAM250.mat']\n",
    "for zz in range(4):\n",
    "    matrix_location = 'scoring_matrices/' + test_matrices[zz]\n",
    "    z = 6 #the gap opening penalty\n",
    "    zed = 5 #the gap extension penalty\n",
    "    #run local alignment on negative pairs\n",
    "    neg_align_seq = []\n",
    "    neg_align_scr = []\n",
    "    for j in range(len(pairs_neg)):\n",
    "            temp_align = NeedlemanWunsch(pairs_neg[j][0],pairs_neg[j][1],matrix_location)\n",
    "            temp_align.read_scoring_mat()\n",
    "            temp_align.set_gap_penalties(-z,-zed)\n",
    "            temp_align.set_up_align_mats()\n",
    "            temp_align.step_through()\n",
    "            temp_align.follow_back()\n",
    "            neg_align_seq.append([temp_align.final_sequence_1,temp_align.final_sequence_2])\n",
    "            neg_align_scr.append(temp_align.alignment_score)\n",
    "\n",
    "\n",
    "\n",
    "    #align positive pairs\n",
    "    pos_align_seq = []\n",
    "    pos_align_scr = []\n",
    "    for j in range(len(pairs_pos)):\n",
    "            temp_align = NeedlemanWunsch(pairs_pos[j][0],pairs_pos[j][1],matrix_location)\n",
    "            temp_align.read_scoring_mat()\n",
    "            temp_align.set_gap_penalties(-z,-zed)\n",
    "            temp_align.set_up_align_mats()\n",
    "            temp_align.step_through()\n",
    "            temp_align.follow_back()\n",
    "            pos_align_seq.append([temp_align.final_sequence_1,temp_align.final_sequence_2])\n",
    "            pos_align_scr.append(temp_align.alignment_score)\n",
    "    \n",
    "    import math\n",
    "    all_scr = neg_align_scr + pos_align_scr\n",
    "    roc_TPRs = []\n",
    "    roc_FPRs = []\n",
    "\n",
    "    for i in range(math.floor(min(all_scr))-1,math.floor(max(all_scr))+2):\n",
    "        all_score_mean = i\n",
    "        confusion = numpy.zeros([2,2])\n",
    "        true_neg = len([i for i in neg_align_scr if i < all_score_mean])\n",
    "        confusion[0,0] = true_neg\n",
    "        false_pos = len([i for i in neg_align_scr if i >= all_score_mean])\n",
    "        confusion[0,1] = false_pos\n",
    "        false_neg = len([i for i in pos_align_scr if i < all_score_mean])\n",
    "        confusion[1,0] = false_neg\n",
    "        true_pos = len([i for i in pos_align_scr if i >= all_score_mean])\n",
    "        confusion[1,1] = true_pos\n",
    "\n",
    "        TPR = true_pos/(false_neg+true_pos)\n",
    "        FPR = false_pos/(false_pos+true_neg)\n",
    "        roc_TPRs.append(TPR)\n",
    "        roc_FPRs.append(FPR)\n",
    "\n",
    "    #print(z,zed,end='\\r')\n",
    "\n",
    "    #determine ROC_AUC\n",
    "    roc_AUC = 0\n",
    "\n",
    "    for i in range(len(roc_TPRs)-1):\n",
    "        roc_AUC = roc_AUC + (roc_TPRs[i]+roc_TPRs[i+1])/2*(roc_FPRs[i]-roc_FPRs[i+1])\n",
    "\n",
    "    score_roc_AUCs[zz] = roc_AUC\n",
    "    \n",
    "    plt.figure(figsize=(3, 3))    \n",
    "    plt.plot(roc_FPRs, roc_TPRs, 'o', color = 'black')\n",
    "    plt.savefig(test_matrices[zz]+'_ROC.png')\n",
    "    \n",
    "q7_score_mat_optimization = open(\"q7_score_mat_optimization.txt\", \"w\")\n",
    "for row in score_roc_AUCs:\n",
    "    numpy.savetxt(q7_score_mat_optimization, row)\n",
    "q7_score_mat_optimization.close()  \n"
   ]
  },
  {
   "cell_type": "code",
   "execution_count": null,
   "metadata": {},
   "outputs": [],
   "source": []
  },
  {
   "cell_type": "code",
   "execution_count": 711,
   "metadata": {},
   "outputs": [
    {
     "data": {
      "text/plain": [
       "[<matplotlib.lines.Line2D at 0x7f937e9bba60>]"
      ]
     },
     "execution_count": 711,
     "metadata": {},
     "output_type": "execute_result"
    },
    {
     "data": {
      "image/png": "[encoded data removed]",
      "text/plain": [
       "<Figure size 432x288 with 1 Axes>"
      ]
     },
     "metadata": {
      "needs_background": "light"
     },
     "output_type": "display_data"
    }
   ],
   "source": [
    "plt.plot(roc_FPRs, roc_TPRs, 'o', color = 'black')"
   ]
  },
  {
   "cell_type": "code",
   "execution_count": null,
   "metadata": {},
   "outputs": [],
   "source": []
  },
  {
   "cell_type": "code",
   "execution_count": 714,
   "metadata": {},
   "outputs": [],
   "source": [
    "    BLOSUM50_manual =  [[5, -2, -1, -2, -1, -1, -1,  0, -2, -1, -2, -1, -1, -3, -1,  1,  0, -3, -2,  0, -2, -1, -1, -5], \n",
    "[-2,  7, -1, -2, -4,  1,  0, -3,  0, -4, -3,  3, -2, -3, -3, -1, -1, -3, -1, -3, -1,  0, -1, -5], \n",
    "[-1, -1,  7,  2, -2,  0,  0,  0,  1, -3, -4,  0, -2, -4, -2,  1,  0, -4, -2, -3,  4,  0, -1, -5], \n",
    "[-2, -2,  2,  8, -4,  0,  2, -1, -1, -4, -4, -1, -4, -5, -1,  0, -1, -5, -3, -4,  5,  1, -1, -5], \n",
    "[-1, -4, -2, -4, 13, -3, -3, -3, -3, -2, -2, -3, -2, -2, -4, -1, -1, -5, -3, -1, -3, -3, -2, -5],\n",
    "[-1,  1,  0,  0, -3,  7,  2, -2,  1, -3, -2,  2,  0, -4, -1,  0, -1, -1, -1, -3,  0,  4, -1, -5], \n",
    "[-1,  0,  0,  2, -3,  2,  6, -3,  0, -4, -3,  1, -2, -3, -1, -1, -1, -3, -2, -3,  1,  5, -1, -5], \n",
    "[ 0, -3,  0, -1, -3, -2, -3,  8, -2, -4, -4, -2, -3, -4, -2,  0, -2, -3, -3, -4, -1, -2, -2, -5], \n",
    "[-2,  0,  1, -1, -3,  1,  0, -2, 10, -4, -3,  0, -1, -1, -2, -1, -2, -3,  2, -4,  0,  0, -1, -5], \n",
    "[-1, -4, -3, -4, -2, -3, -4, -4, -4,  5,  2, -3,  2,  0, -3, -3, -1, -3, -1,  4, -4, -3, -1, -5], \n",
    "[-2, -3, -4, -4, -2, -2, -3, -4, -3,  2,  5, -3,  3,  1, -4, -3, -1, -2, -1,  1, -4, -3, -1, -5],\n",
    "[-1,  3,  0, -1, -3,  2,  1, -2,  0, -3, -3,  6, -2, -4, -1,  0, -1, -3, -2, -3,  0,  1, -1, -5],\n",
    "[-1, -2, -2, -4, -2,  0, -2, -3, -1,  2,  3, -2,  7,  0, -3, -2, -1, -1,  0,  1, -3, -1, -1, -5], \n",
    "[-3, -3, -4, -5, -2, -4, -3, -4, -1,  0,  1, -4,  0,  8, -4, -3, -2,  1,  4, -1, -4, -4, -2, -5], \n",
    "[-1, -3, -2, -1, -4, -1, -1, -2, -2, -3, -4, -1, -3, -4, 10, -1, -1, -4, -3, -3, -2, -1, -2, -5], \n",
    "[ 1, -1,  1,  0, -1,  0, -1,  0, -1, -3, -3,  0, -2, -3, -1,  5,  2, -4, -2, -2,  0,  0, -1, -5], \n",
    "[ 0, -1,  0, -1, -1, -1, -1, -2, -2, -1, -1, -1, -1, -2, -1,  2,  5, -3, -2,  0,  0, -1,  0, -5], \n",
    "[-3, -3, -4, -5, -5, -1, -3, -3, -3, -3, -2, -3, -1,  1, -4, -4, -3, 15,  2, -3, -5, -2, -3, -5], \n",
    "[-2, -1, -2, -3, -3, -1, -2, -3,  2, -1, -1, -2,  0,  4, -3, -2, -2,  2,  8, -1, -3, -2, -1, -5], \n",
    "[ 0, -3, -3, -4, -1, -3, -3, -4, -4,  4,  1, -3,  1, -1, -3, -2,  0, -3, -1,  5, -4, -3, -1, -5],\n",
    "[-2, -1,  4,  5, -3,  0,  1, -1,  0, -4, -4,  0, -3, -4, -2,  0,  0, -5, -3, -4,  5,  2, -1, -5], \n",
    "[-1,  0,  0,  1, -3,  4,  5, -2,  0, -3, -3,  1, -1, -4, -1,  0, -1, -2, -2, -3,  2,  5, -1, -5], \n",
    "[-1, -1, -1, -1, -2, -1, -1, -2, -1, -1, -1, -1, -1, -2, -2, -1,  0, -3, -1, -1, -1, -1, -1, -5],\n",
    "[-5, -5, -5, -5, -5, -5, -5, -5, -5, -5, -5, -5, -5, -5, -5, -5, -5, -5, -5, -5, -5, -5, -5,  1]] \n",
    "    "
   ]
  },
  {
   "cell_type": "code",
   "execution_count": 718,
   "metadata": {},
   "outputs": [
    {
     "data": {
      "text/plain": [
       "'L-S-C--SK----------CRK-EMGQVEISSC-TVDRDTVC-GCRKNQYRHYWSENLFQC'"
      ]
     },
     "execution_count": 718,
     "metadata": {},
     "output_type": "execute_result"
    }
   ],
   "source": [
    "temp_align.final_sequence_2"
   ]
  },
  {
   "cell_type": "code",
   "execution_count": 719,
   "metadata": {},
   "outputs": [
    {
     "data": {
      "text/plain": [
       "'MDSVCPQGKYIHPQNNSICCTKCHKGTYLYNDCPGPGQDTDCRECESGSFTA-SENHLRHC'"
      ]
     },
     "execution_count": 719,
     "metadata": {},
     "output_type": "execute_result"
    }
   ],
   "source": [
    "temp_align.final_sequence_1"
   ]
  }
 ],
 "metadata": {
  "kernelspec": {
   "display_name": "Python 3",
   "language": "python",
   "name": "python3"
  },
  "language_info": {
   "codemirror_mode": {
    "name": "ipython",
    "version": 3
   },
   "file_extension": ".py",
   "mimetype": "text/x-python",
   "name": "python",
   "nbconvert_exporter": "python",
   "pygments_lexer": "ipython3",
   "version": "3.8.5"
  }
 },
 "nbformat": 4,
 "nbformat_minor": 4
}
